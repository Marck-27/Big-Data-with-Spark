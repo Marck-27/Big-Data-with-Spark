{
 "cells": [
  {
   "cell_type": "markdown",
   "metadata": {},
   "source": [
    "# Proyecto: Joins con múltiples Data Frames\n",
    "\n",
    "En la presente práctica veremos cómo:\n",
    "\n",
    "* Crear Data Frames a partir archivos .csv\n",
    "\n",
    "* Quitar el encabezado de un RDD\n",
    "\n",
    "* Unir dos RDDs\n",
    "\n",
    "* Ordenar valores de un Data Frame\n",
    "\n",
    "* Renombrar columnas de un Data Frame\n",
    "\n",
    "* Filtrar valores de un Data Frame\n",
    "\n",
    "* Hacer JOINS (tipo SQL) con múltiples Data Frames\n",
    "\n",
    "Algunas funciones que veremos son:\n",
    "\n",
    "`sort( col('column_name').desc() )` Ordena un Data Frame de forma descendiente 'desc()' con respecto a los valores de la columna 'column_name'\n",
    "\n",
    "`.distinct()` Elimina los registros repetidos en un Data Frame\n",
    "\n",
    "`.select( col('old_column_name').alias('new_column_name') )` Selecciona y renombra las columnas de un Data Frame\n"
   ]
  },
  {
   "cell_type": "code",
   "execution_count": 1,
   "metadata": {},
   "outputs": [],
   "source": [
    "# libreria para crear punto de conexión:\n",
    "from pyspark import SparkContext\n",
    "\n",
    "# Cargamos libreria para crear Data Frames:\n",
    "from pyspark.sql import SQLContext\n",
    "\n",
    "#from pyspark.sql import SparkSession\n",
    "\n",
    "# Cargamos librerias para crear el schema del DataFrame\n",
    "from pyspark.sql.types import StructType, StructField\n",
    "\n",
    "# Cargamos los tipos de datos que usaremos para crear las columnas de los dataframes:\n",
    "from pyspark.sql.types import  IntegerType, StringType, FloatType\n",
    "\n",
    "#from pyspark.sql.types import Row"
   ]
  },
  {
   "cell_type": "code",
   "execution_count": 2,
   "metadata": {},
   "outputs": [],
   "source": [
    "# Creamos el punto de conexió a Spark (que se ejecutará en mi máquina 'local'):\n",
    "spark = SparkContext(master='local', appName='manipulando_DataFrames')"
   ]
  },
  {
   "cell_type": "code",
   "execution_count": 3,
   "metadata": {},
   "outputs": [
    {
     "name": "stderr",
     "output_type": "stream",
     "text": [
      "/home/marck/.local/lib/python3.8/site-packages/pyspark/sql/context.py:77: FutureWarning: Deprecated in 3.0.0. Use SparkSession.builder.getOrCreate() instead.\n",
      "  warnings.warn(\n"
     ]
    }
   ],
   "source": [
    "# Creamos el contexto para SQL:\n",
    "sqlContext = SQLContext(spark)"
   ]
  },
  {
   "cell_type": "code",
   "execution_count": 4,
   "metadata": {},
   "outputs": [
    {
     "name": "stdout",
     "output_type": "stream",
     "text": [
      "deporte.csv\t deportistaError.csv  modelo_relacional.jpg\n",
      "deportista2.csv  evento.csv\t      paises.csv\n",
      "deportista.csv\t juegos.csv\t      resultados.csv\n"
     ]
    }
   ],
   "source": [
    "# Visualizamos el contenido de la carpeta 'Data' \n",
    "!ls ./Data/"
   ]
  },
  {
   "cell_type": "code",
   "execution_count": 5,
   "metadata": {},
   "outputs": [],
   "source": [
    "# Ruta en donde se encuentran los datos con los que trabajaremos:\n",
    "path = './Data/'"
   ]
  },
  {
   "cell_type": "code",
   "execution_count": 6,
   "metadata": {},
   "outputs": [],
   "source": [
    "# Creamos función para eliminar encabezados en RDDs:\n",
    "def eliminaEncabezado(indice , interador):\n",
    "    return iter( list(interador)[1:] )"
   ]
  },
  {
   "cell_type": "code",
   "execution_count": 7,
   "metadata": {},
   "outputs": [],
   "source": [
    "# Número de registros a visualizar:\n",
    "N=5"
   ]
  },
  {
   "cell_type": "markdown",
   "metadata": {},
   "source": [
    "## Creación de un DataFrame con los datos del archivo *paises.csv*"
   ]
  },
  {
   "cell_type": "code",
   "execution_count": 8,
   "metadata": {},
   "outputs": [
    {
     "name": "stdout",
     "output_type": "stream",
     "text": [
      "id,equipo,sigla\n",
      "1,30. Februar,AUT\n",
      "2,A North American Team,MEX\n",
      "3,Acipactli,MEX\n",
      "4,Acturus,ARG\n"
     ]
    }
   ],
   "source": [
    "# Exploramos archivo.cvs para verificar si trae encabezado:\n",
    "\n",
    "!head -n 5 Data/paises.csv"
   ]
  },
  {
   "cell_type": "code",
   "execution_count": 9,
   "metadata": {},
   "outputs": [
    {
     "name": "stdout",
     "output_type": "stream",
     "text": [
      "+---+--------------------+-----+\n",
      "| id|              equipo|sigla|\n",
      "+---+--------------------+-----+\n",
      "|  1|         30. Februar|  AUT|\n",
      "|  2|A North American ...|  MEX|\n",
      "|  3|           Acipactli|  MEX|\n",
      "|  4|             Acturus|  ARG|\n",
      "|  5|         Afghanistan|  AFG|\n",
      "+---+--------------------+-----+\n",
      "only showing top 5 rows\n",
      "\n"
     ]
    }
   ],
   "source": [
    "# Guardamos archivo.csv en un DataFrame:\n",
    "\n",
    "# Creamos un Schema para el DataFrame, es decir, \n",
    "# Asignamos nombre a las columnas, especificamos su tipo de dato y especificamos si el campo puede ser nulo\n",
    "paisesSchema = StructType([\n",
    "    StructField('id',IntegerType(),False),\n",
    "    StructField('equipo',StringType(),False),\n",
    "    StructField('sigla',StringType(),False) \n",
    "])\n",
    "\n",
    "# Creamos el DataFrame:\n",
    "paisesDF = sqlContext.read.schema(paisesSchema).option('header', 'true').csv(path+'paises.csv')\n",
    "\n",
    "# La información de RDDs se muestra con '.take()'\n",
    "# La información de DataFrames se muestra con '.show()'\n",
    "paisesDF.show(N)"
   ]
  },
  {
   "cell_type": "markdown",
   "metadata": {},
   "source": [
    "## Creación de un DataFrame con los datos del archivo *deporte.csv*"
   ]
  },
  {
   "cell_type": "code",
   "execution_count": 10,
   "metadata": {},
   "outputs": [
    {
     "name": "stdout",
     "output_type": "stream",
     "text": [
      "deporte_id,deporte\n",
      "1,Basketball\n",
      "2,Judo\n",
      "3,Football\n",
      "4,Tug-Of-War\n"
     ]
    }
   ],
   "source": [
    "# Exploramos archivo.cvs para verificar si trae encabezado:\n",
    "\n",
    "!head -n 5 Data/deporte.csv"
   ]
  },
  {
   "cell_type": "code",
   "execution_count": 11,
   "metadata": {},
   "outputs": [
    {
     "name": "stdout",
     "output_type": "stream",
     "text": [
      "+----------+-------------+\n",
      "|deporte_id|      deporte|\n",
      "+----------+-------------+\n",
      "|         1|   Basketball|\n",
      "|         2|         Judo|\n",
      "|         3|     Football|\n",
      "|         4|   Tug-Of-War|\n",
      "|         5|Speed Skating|\n",
      "+----------+-------------+\n",
      "only showing top 5 rows\n",
      "\n"
     ]
    }
   ],
   "source": [
    "# Guardamos archivo.csv en un DataFrame:\n",
    "\n",
    "# Creamos un Schema para el DataFrame, es decir, \n",
    "# Asignamos nombre a las columnas, especificamos su tipo de dato y especificamos si el campo puede ser nulo\n",
    "deportesSchema = StructType([\n",
    "    StructField('deporte_id',IntegerType(),False),\n",
    "    StructField('deporte',StringType(),False) \n",
    "])\n",
    "\n",
    "# Creamos el DataFrame:\n",
    "deportesDF = sqlContext.read.schema(deportesSchema).option('header', 'true').csv(path+'deporte.csv')\n",
    "\n",
    "# La información de RDDs se muestra con '.take()'\n",
    "# La información de DataFrames se muestra con '.show()'\n",
    "deportesDF.show(N)"
   ]
  },
  {
   "cell_type": "markdown",
   "metadata": {},
   "source": [
    "## Creación de un DataFrame con los datos del archivo *evento.csv*"
   ]
  },
  {
   "cell_type": "code",
   "execution_count": 12,
   "metadata": {},
   "outputs": [
    {
     "name": "stdout",
     "output_type": "stream",
     "text": [
      "evento_id,evento,deporte_id\n",
      "1,Basketball Men's Basketball,1\n",
      "2,Judo Men's Extra-Lightweight,2\n",
      "3,Football Men's Football,3\n",
      "4,Tug-Of-War Men's Tug-Of-War,4\n"
     ]
    }
   ],
   "source": [
    "# Exploramos archivo.cvs para verificar si trae encabezado:\n",
    "\n",
    "!head -n 5 Data/evento.csv"
   ]
  },
  {
   "cell_type": "code",
   "execution_count": 13,
   "metadata": {},
   "outputs": [
    {
     "name": "stdout",
     "output_type": "stream",
     "text": [
      "+---------+--------------------+----------+\n",
      "|evento_id|              nombre|deporte_id|\n",
      "+---------+--------------------+----------+\n",
      "|        1|Basketball Men's ...|         1|\n",
      "|        2|Judo Men's Extra-...|         2|\n",
      "|        3|Football Men's Fo...|         3|\n",
      "|        4|Tug-Of-War Men's ...|         4|\n",
      "|        5|Speed Skating Wom...|         5|\n",
      "+---------+--------------------+----------+\n",
      "only showing top 5 rows\n",
      "\n"
     ]
    }
   ],
   "source": [
    "# Guardamos archivo.csv en un DataFrame:\n",
    "\n",
    "# Creamos un Schema para el DataFrame, es decir, \n",
    "# Asignamos nombre a las columnas, especificamos su tipo de dato y especificamos si el campo puede ser nulo\n",
    "eventoSchema = StructType([\n",
    "    StructField('evento_id',IntegerType(),False),\n",
    "    StructField('nombre',StringType(),False),\n",
    "    StructField('deporte_id',IntegerType(),False) \n",
    "])\n",
    "\n",
    "# Creamos el DataFrame:\n",
    "deportesOlimpicosDF = sqlContext.read.schema(eventoSchema).option('header', 'true').csv(path+'evento.csv')\n",
    "\n",
    "# La información de RDDs se muestra con '.take()'\n",
    "# La información de DataFrames se muestra con '.show()'\n",
    "deportesOlimpicosDF.show(N)"
   ]
  },
  {
   "cell_type": "markdown",
   "metadata": {},
   "source": [
    "## Creación de un DataFrame con los datos del archivo *resultados.csv*"
   ]
  },
  {
   "cell_type": "code",
   "execution_count": 14,
   "metadata": {},
   "outputs": [
    {
     "name": "stdout",
     "output_type": "stream",
     "text": [
      "resultado_id,medalla,deportista_id,juego_id,evento_id\n",
      "1,NA,1,39,1\n",
      "2,NA,2,49,2\n",
      "3,NA,3,7,3\n",
      "4,Gold,4,2,4\n"
     ]
    }
   ],
   "source": [
    "# Exploramos archivo.cvs para verificar si trae encabezado:\n",
    "\n",
    "!head -n 5 Data/resultados.csv"
   ]
  },
  {
   "cell_type": "code",
   "execution_count": 15,
   "metadata": {},
   "outputs": [
    {
     "name": "stdout",
     "output_type": "stream",
     "text": [
      "+------------+-------+-------------+--------+---------+\n",
      "|resultado_id|medalla|deportista_id|juego_id|evento_id|\n",
      "+------------+-------+-------------+--------+---------+\n",
      "|           1|     NA|            1|      39|        1|\n",
      "|           2|     NA|            2|      49|        2|\n",
      "|           3|     NA|            3|       7|        3|\n",
      "|           4|   Gold|            4|       2|        4|\n",
      "|           5|     NA|            5|      36|        5|\n",
      "+------------+-------+-------------+--------+---------+\n",
      "only showing top 5 rows\n",
      "\n"
     ]
    }
   ],
   "source": [
    "# Guardamos archivo.csv en un DataFrame:\n",
    "\n",
    "# Creamos un Schema para el DataFrame, es decir, \n",
    "# Asignamos nombre a las columnas, especificamos su tipo de dato y especificamos si el campo puede ser nulo\n",
    "resultadoSchema = StructType([\n",
    "    StructField('resultado_id',IntegerType(),False),\n",
    "    StructField('medalla',StringType(),False),\n",
    "    StructField('deportista_id',IntegerType(),False),\n",
    "    StructField('juego_id',IntegerType(),False),\n",
    "    StructField('evento_id',IntegerType(),False)\n",
    "])\n",
    "\n",
    "# Creamos el DataFrame:\n",
    "resultadoDF = sqlContext.read.schema(resultadoSchema).option('header', 'true').csv(path+'resultados.csv')\n",
    "\n",
    "# La información de RDDs se muestra con '.take()'\n",
    "# La información de DataFrames se muestra con '.show()'\n",
    "resultadoDF.show(N)"
   ]
  },
  {
   "cell_type": "markdown",
   "metadata": {},
   "source": [
    "## Creación de un DataFrame con los datos del archivo *juegos.csv*"
   ]
  },
  {
   "cell_type": "code",
   "execution_count": 16,
   "metadata": {},
   "outputs": [
    {
     "name": "stdout",
     "output_type": "stream",
     "text": [
      ",nombre_juego,annio,temporada,ciudad\n",
      "1,1896 Verano,1896,Verano,Athina\n",
      "2,1900 Verano,1900,Verano,Paris\n",
      "3,1904 Verano,1904,Verano,St. Louis\n",
      "4,1906 Verano,1906,Verano,Athina\n"
     ]
    }
   ],
   "source": [
    "# Exploramos archivo.cvs para verificar si trae encabezado:\n",
    "\n",
    "!head -n 5 Data/juegos.csv"
   ]
  },
  {
   "cell_type": "code",
   "execution_count": 17,
   "metadata": {},
   "outputs": [
    {
     "name": "stdout",
     "output_type": "stream",
     "text": [
      "+--------+------------+----+---------+---------+\n",
      "|juego_id|nombre_juego|anio|temporada|   ciudad|\n",
      "+--------+------------+----+---------+---------+\n",
      "|       1| 1896 Verano|1896|   Verano|   Athina|\n",
      "|       2| 1900 Verano|1900|   Verano|    Paris|\n",
      "|       3| 1904 Verano|1904|   Verano|St. Louis|\n",
      "|       4| 1906 Verano|1906|   Verano|   Athina|\n",
      "|       5| 1908 Verano|1908|   Verano|   London|\n",
      "+--------+------------+----+---------+---------+\n",
      "only showing top 5 rows\n",
      "\n"
     ]
    }
   ],
   "source": [
    "# Guardamos archivo.csv en un DataFrame:\n",
    "\n",
    "# Creamos un Schema para el DataFrame, es decir, \n",
    "# Asignamos nombre a las columnas, especificamos su tipo de dato y especificamos si el campo puede ser nulo\n",
    "juegoSchema = StructType([\n",
    "    StructField('juego_id',IntegerType(),False),\n",
    "    StructField('nombre_juego',StringType(),False),\n",
    "    StructField('anio',IntegerType(),False),\n",
    "    StructField('temporada',StringType(),False),\n",
    "    StructField('ciudad',StringType(),False)\n",
    "])\n",
    "\n",
    "# Creamos el DataFrame:\n",
    "juegoDF = sqlContext.read.schema(juegoSchema).option('header', 'true').csv(path+'juegos.csv')\n",
    "\n",
    "# La información de RDDs se muestra con '.take()'\n",
    "# La información de DataFrames se muestra con '.show()'\n",
    "juegoDF.show(N)"
   ]
  },
  {
   "cell_type": "code",
   "execution_count": 18,
   "metadata": {},
   "outputs": [
    {
     "name": "stdout",
     "output_type": "stream",
     "text": [
      "+--------+----+---------+---------+\n",
      "|juego_id|anio|temporada|   ciudad|\n",
      "+--------+----+---------+---------+\n",
      "|       1|1896|   Verano|   Athina|\n",
      "|       2|1900|   Verano|    Paris|\n",
      "|       3|1904|   Verano|St. Louis|\n",
      "|       4|1906|   Verano|   Athina|\n",
      "|       5|1908|   Verano|   London|\n",
      "+--------+----+---------+---------+\n",
      "only showing top 5 rows\n",
      "\n"
     ]
    }
   ],
   "source": [
    "# Eliminamos la una columna del Data Frame:\n",
    "juegoDF = juegoDF.drop('nombre_juego')\n",
    "\n",
    "juegoDF.show(N)"
   ]
  },
  {
   "cell_type": "markdown",
   "metadata": {},
   "source": [
    "## Creación de un DataFrame con los datos de los archivos *deportista.csv* y *deportista2.csv*"
   ]
  },
  {
   "cell_type": "code",
   "execution_count": 19,
   "metadata": {},
   "outputs": [
    {
     "name": "stdout",
     "output_type": "stream",
     "text": [
      "deportista_id,nombre,genero,edad,altura,peso,equipo_id\n",
      "1,A Dijiang,1,24,180,80,199\n",
      "2,A Lamusi,1,23,170,60,199\n",
      "3,Gunnar Nielsen Aaby,1,24,0,0,273\n",
      "4,Edgar Lindenau Aabye,1,34,0,0,278\n"
     ]
    }
   ],
   "source": [
    "# Exploramos archivo.cvs para verificar si trae encabezado:\n",
    "\n",
    "!head -n 5 Data/deportista.csv"
   ]
  },
  {
   "cell_type": "code",
   "execution_count": 20,
   "metadata": {},
   "outputs": [
    {
     "name": "stdout",
     "output_type": "stream",
     "text": [
      "67787,Lee BongJu,1,27,167,56,970\n",
      "67788,Lee BuTi,1,23,164,54,203\n",
      "67789,Anthony N. Buddy Lee,1,34,172,62,1096\n",
      "67790,Alfred A. Butch Lee Porter,1,19,186,80,825\n",
      "67791,Lee ByeongGu,1,22,175,68,970\n"
     ]
    }
   ],
   "source": [
    "# Exploramos archivo.cvs para verificar si trae encabezado:\n",
    "\n",
    "!head -n 5 Data/deportista2.csv"
   ]
  },
  {
   "cell_type": "markdown",
   "metadata": {},
   "source": [
    "Notemos que el archivo 'deportista.csv' tiene encabezado y 'deportista2.csv' no tiene\n",
    "\n",
    "El archivo 'deportista2.csv' es continuación de 'deportista.csv'\n",
    "\n",
    "Para hacer un sólo Data Frame, haremos lo siguiente: \n",
    "\n",
    "1. Tranformamos los archivos.csv a RDDs\n",
    "\n",
    "2. Eliminamos el encabezado del archivo 'deportista.csv'\n",
    "\n",
    "3. Unimos los RDDs 'deportista' y 'deportista2\n",
    "\n",
    "4. Ya que tenemos un sólo RDD lo pasamos a un Data Frame"
   ]
  },
  {
   "cell_type": "code",
   "execution_count": 21,
   "metadata": {},
   "outputs": [],
   "source": [
    "# Guardamos archivos.csv en RDDs:\n",
    "# .map(lambda l : l.split(',')) <-- Le asigan formato al contenido de archivos .csv\n",
    "\n",
    "deportistaOlimpicoRDD = spark.textFile(path+'deportista.csv').map(lambda l : l.split(','))\n",
    "\n",
    "deportistaOlimpicoRDD2 = spark.textFile(path+'deportista2.csv').map(lambda l : l.split(','))"
   ]
  },
  {
   "cell_type": "code",
   "execution_count": 22,
   "metadata": {},
   "outputs": [
    {
     "data": {
      "text/plain": [
       "[['deportista_id', 'nombre', 'genero', 'edad', 'altura', 'peso', 'equipo_id'],\n",
       " ['1', 'A Dijiang', '1', '24', '180', '80', '199'],\n",
       " ['2', 'A Lamusi', '1', '23', '170', '60', '199'],\n",
       " ['3', 'Gunnar Nielsen Aaby', '1', '24', '0', '0', '273'],\n",
       " ['4', 'Edgar Lindenau Aabye', '1', '34', '0', '0', '278']]"
      ]
     },
     "execution_count": 22,
     "metadata": {},
     "output_type": "execute_result"
    }
   ],
   "source": [
    "# Vemos los primeros N registros del RDD:\n",
    "deportistaOlimpicoRDD.take(N)"
   ]
  },
  {
   "cell_type": "code",
   "execution_count": 23,
   "metadata": {},
   "outputs": [
    {
     "data": {
      "text/plain": [
       "[['1', 'A Dijiang', '1', '24', '180', '80', '199'],\n",
       " ['2', 'A Lamusi', '1', '23', '170', '60', '199'],\n",
       " ['3', 'Gunnar Nielsen Aaby', '1', '24', '0', '0', '273'],\n",
       " ['4', 'Edgar Lindenau Aabye', '1', '34', '0', '0', '278'],\n",
       " ['5', 'Christine Jacoba Aaftink', '2', '21', '185', '82', '705']]"
      ]
     },
     "execution_count": 23,
     "metadata": {},
     "output_type": "execute_result"
    }
   ],
   "source": [
    "# Eliminamos encabezado al primer RDD :\n",
    "deportistaOlimpicoRDD = deportistaOlimpicoRDD.mapPartitionsWithIndex(eliminaEncabezado)\n",
    "\n",
    "# Vemos los primeros N registros del RDD:\n",
    "deportistaOlimpicoRDD.take(N)"
   ]
  },
  {
   "cell_type": "code",
   "execution_count": 24,
   "metadata": {},
   "outputs": [
    {
     "data": {
      "text/plain": [
       "[['67787', 'Lee BongJu', '1', '27', '167', '56', '970'],\n",
       " ['67788', 'Lee BuTi', '1', '23', '164', '54', '203'],\n",
       " ['67789', 'Anthony N. Buddy Lee', '1', '34', '172', '62', '1096'],\n",
       " ['67790', 'Alfred A. Butch Lee Porter', '1', '19', '186', '80', '825'],\n",
       " ['67791', 'Lee ByeongGu', '1', '22', '175', '68', '970']]"
      ]
     },
     "execution_count": 24,
     "metadata": {},
     "output_type": "execute_result"
    }
   ],
   "source": [
    "# Vemos los primeros N registros del segundo RDD:\n",
    "deportistaOlimpicoRDD2.take(N)"
   ]
  },
  {
   "cell_type": "code",
   "execution_count": 25,
   "metadata": {},
   "outputs": [],
   "source": [
    "# Unimos los 2 RDDs: deportistaOlimpicoRDD y deportistaOlimpicoRDD2\n",
    "deportistaOlimpicoRDD = deportistaOlimpicoRDD.union( deportistaOlimpicoRDD2 )"
   ]
  },
  {
   "cell_type": "code",
   "execution_count": 26,
   "metadata": {},
   "outputs": [
    {
     "name": "stdout",
     "output_type": "stream",
     "text": [
      "+-------------+--------------------+------+----+------+----+---------+\n",
      "|deportista_id|              nombre|genero|edad|altura|peso|equipo_id|\n",
      "+-------------+--------------------+------+----+------+----+---------+\n",
      "|            1|           A Dijiang|     1|  24|   180|80.0|      199|\n",
      "|            2|            A Lamusi|     1|  23|   170|60.0|      199|\n",
      "|            3| Gunnar Nielsen Aaby|     1|  24|     0| 0.0|      273|\n",
      "|            4|Edgar Lindenau Aabye|     1|  34|     0| 0.0|      278|\n",
      "|            5|Christine Jacoba ...|     2|  21|   185|82.0|      705|\n",
      "+-------------+--------------------+------+----+------+----+---------+\n",
      "only showing top 5 rows\n",
      "\n"
     ]
    }
   ],
   "source": [
    "# Creación de un Data Frame a partir de un RDD:\n",
    "\n",
    "# Corregimos los tipos de dato en cada columna del RDD: \n",
    "deportistaOlimpicoRDD = \\\n",
    "    deportistaOlimpicoRDD.map(lambda x: ( int(x[0]), x[1],  int(x[2]), int(x[3]), int(x[4]), float(x[5]), int(x[6])  ) )\n",
    "\n",
    "\n",
    "# A continuación creamos el schema, es decir, la estructura (columnas) del Data Frame donde pondremos los datos del RDD:\n",
    "schema = StructType([\n",
    "    StructField('deportista_id', IntegerType(), False ),\n",
    "    StructField('nombre', StringType(), False ),\n",
    "    StructField('genero', IntegerType(), False ),\n",
    "    StructField('edad', IntegerType(), False ),\n",
    "    StructField('altura', IntegerType(), False ),\n",
    "    StructField('peso', FloatType(), False ),\n",
    "    StructField('equipo_id', IntegerType(), False )\n",
    "    ])\n",
    "\n",
    "# StructField <-- instrucción para crear una columna, se debe especificar el tipo de dato que almacenará\n",
    "# En caso de que el campo pueda ser nulo ponemos 'True' de lo contrario ponemos 'False'\n",
    "\n",
    "\n",
    "# Creamos el DataFrame a partir del RDD:\n",
    "deportistaOlimpicoDF = sqlContext.createDataFrame(deportistaOlimpicoRDD, schema)\n",
    "\n",
    "\n",
    "# La información de RDDs se muestra con '.take()'\n",
    "# La información de DataFrames se muestra con '.show()'\n",
    "deportistaOlimpicoDF.show(N)"
   ]
  },
  {
   "cell_type": "code",
   "execution_count": 27,
   "metadata": {},
   "outputs": [
    {
     "name": "stdout",
     "output_type": "stream",
     "text": [
      "+-------------+--------------------+------+----+------+----+---------+\n",
      "|deportista_id|              nombre|genero|edad|altura|peso|equipo_id|\n",
      "+-------------+--------------------+------+----+------+----+---------+\n",
      "|          133|           Franz Abb|     1|   0|     0| 0.0|      399|\n",
      "|          167|Ould Lamine Abdallah|     1|   0|     0| 0.0|      362|\n",
      "|           66|     Mohamed Abakkar|     1|   0|   156|48.0|     1003|\n",
      "|          163|     Ismail Abdallah|     1|   0|     0| 0.0|     1095|\n",
      "|          139|George Ioannis Abbot|     1|   0|     0| 0.0|     1043|\n",
      "+-------------+--------------------+------+----+------+----+---------+\n",
      "only showing top 5 rows\n",
      "\n"
     ]
    }
   ],
   "source": [
    "# Vemos los primeros N registros ordenadas de forma ascendente \n",
    "# con respecto a los valores de la columna 'edadAlJugar'\n",
    "\n",
    "deportistaOlimpicoDF.sort('edad').show(N)"
   ]
  },
  {
   "cell_type": "code",
   "execution_count": 28,
   "metadata": {},
   "outputs": [],
   "source": [
    "# Nos quedamos con registros donde los valores de la columna 'edad' sean distintos de cero\n",
    "deportistaOlimpicoDF = deportistaOlimpicoDF.filter( (deportistaOlimpicoDF['edad'] !=0) )"
   ]
  },
  {
   "cell_type": "code",
   "execution_count": 29,
   "metadata": {},
   "outputs": [
    {
     "name": "stdout",
     "output_type": "stream",
     "text": [
      "+-------------+--------------------+------+----+------+----+---------+\n",
      "|deportista_id|              nombre|genero|edad|altura|peso|equipo_id|\n",
      "+-------------+--------------------+------+----+------+----+---------+\n",
      "|        71691|  Dimitrios Loundras|     1|  10|     0| 0.0|      333|\n",
      "|        52070|        Etsuko Inada|     2|  11|     0| 0.0|      514|\n",
      "|        40129|    Luigina Giavotti|     2|  11|     0| 0.0|      507|\n",
      "|        37333|Carlos Bienvenido...|     1|  11|     0| 0.0|      982|\n",
      "|        47618|Sonja Henie Toppi...|     2|  11|   155|45.0|      742|\n",
      "+-------------+--------------------+------+----+------+----+---------+\n",
      "only showing top 5 rows\n",
      "\n"
     ]
    }
   ],
   "source": [
    "# Mostramos los primeros registros ordenados con respecto a los valores de la columna 'edad'\n",
    "deportistaOlimpicoDF.sort('edad').show(N)"
   ]
  },
  {
   "cell_type": "markdown",
   "metadata": {},
   "source": [
    "## Realizamos `join` entre los Data Frames: *deportistaOlimpicoDF*, *resultadoDF*, *juegoDF* y *deportesOlimpicosDF*"
   ]
  },
  {
   "cell_type": "code",
   "execution_count": 30,
   "metadata": {},
   "outputs": [
    {
     "name": "stdout",
     "output_type": "stream",
     "text": [
      "+-------------+--------------------+------+----+------+----+---------+\n",
      "|deportista_id|              nombre|genero|edad|altura|peso|equipo_id|\n",
      "+-------------+--------------------+------+----+------+----+---------+\n",
      "|            1|           A Dijiang|     1|  24|   180|80.0|      199|\n",
      "|            2|            A Lamusi|     1|  23|   170|60.0|      199|\n",
      "|            3| Gunnar Nielsen Aaby|     1|  24|     0| 0.0|      273|\n",
      "|            4|Edgar Lindenau Aabye|     1|  34|     0| 0.0|      278|\n",
      "|            5|Christine Jacoba ...|     2|  21|   185|82.0|      705|\n",
      "+-------------+--------------------+------+----+------+----+---------+\n",
      "only showing top 5 rows\n",
      "\n"
     ]
    }
   ],
   "source": [
    "deportistaOlimpicoDF.show(N)"
   ]
  },
  {
   "cell_type": "code",
   "execution_count": 31,
   "metadata": {},
   "outputs": [
    {
     "name": "stdout",
     "output_type": "stream",
     "text": [
      "+------------+-------+-------------+--------+---------+\n",
      "|resultado_id|medalla|deportista_id|juego_id|evento_id|\n",
      "+------------+-------+-------------+--------+---------+\n",
      "|           1|     NA|            1|      39|        1|\n",
      "|           2|     NA|            2|      49|        2|\n",
      "|           3|     NA|            3|       7|        3|\n",
      "|           4|   Gold|            4|       2|        4|\n",
      "|           5|     NA|            5|      36|        5|\n",
      "+------------+-------+-------------+--------+---------+\n",
      "only showing top 5 rows\n",
      "\n"
     ]
    }
   ],
   "source": [
    "resultadoDF.show(N)"
   ]
  },
  {
   "cell_type": "code",
   "execution_count": 32,
   "metadata": {},
   "outputs": [
    {
     "name": "stdout",
     "output_type": "stream",
     "text": [
      "+--------+----+---------+---------+\n",
      "|juego_id|anio|temporada|   ciudad|\n",
      "+--------+----+---------+---------+\n",
      "|       1|1896|   Verano|   Athina|\n",
      "|       2|1900|   Verano|    Paris|\n",
      "|       3|1904|   Verano|St. Louis|\n",
      "|       4|1906|   Verano|   Athina|\n",
      "|       5|1908|   Verano|   London|\n",
      "+--------+----+---------+---------+\n",
      "only showing top 5 rows\n",
      "\n"
     ]
    }
   ],
   "source": [
    "juegoDF.show(N)"
   ]
  },
  {
   "cell_type": "code",
   "execution_count": 33,
   "metadata": {},
   "outputs": [
    {
     "name": "stdout",
     "output_type": "stream",
     "text": [
      "+---------+--------------------+----------+\n",
      "|evento_id|              nombre|deporte_id|\n",
      "+---------+--------------------+----------+\n",
      "|        1|Basketball Men's ...|         1|\n",
      "|        2|Judo Men's Extra-...|         2|\n",
      "|        3|Football Men's Fo...|         3|\n",
      "|        4|Tug-Of-War Men's ...|         4|\n",
      "|        5|Speed Skating Wom...|         5|\n",
      "+---------+--------------------+----------+\n",
      "only showing top 5 rows\n",
      "\n"
     ]
    }
   ],
   "source": [
    "deportesOlimpicosDF.show(N)"
   ]
  },
  {
   "cell_type": "code",
   "execution_count": 34,
   "metadata": {},
   "outputs": [
    {
     "name": "stdout",
     "output_type": "stream",
     "text": [
      "+-------------+--------------------+------+----+------+----+---------+------------+-------+-------------+--------+---------+--------+----+---------+-----------+---------+--------------------+----------+\n",
      "|deportista_id|              nombre|genero|edad|altura|peso|equipo_id|resultado_id|medalla|deportista_id|juego_id|evento_id|juego_id|anio|temporada|     ciudad|evento_id|              nombre|deporte_id|\n",
      "+-------------+--------------------+------+----+------+----+---------+------------+-------+-------------+--------+---------+--------+----+---------+-----------+---------+--------------------+----------+\n",
      "|            1|           A Dijiang|     1|  24|   180|80.0|      199|           1|     NA|            1|      39|        1|      39|1992|   Verano|  Barcelona|        1|Basketball Men's ...|         1|\n",
      "|            2|            A Lamusi|     1|  23|   170|60.0|      199|           2|     NA|            2|      49|        2|      49|2012|   Verano|     London|        2|Judo Men's Extra-...|         2|\n",
      "|            3| Gunnar Nielsen Aaby|     1|  24|     0| 0.0|      273|           3|     NA|            3|       7|        3|       7|1920|   Verano|  Antwerpen|        3|Football Men's Fo...|         3|\n",
      "|            4|Edgar Lindenau Aabye|     1|  34|     0| 0.0|      278|           4|   Gold|            4|       2|        4|       2|1900|   Verano|      Paris|        4|Tug-Of-War Men's ...|         4|\n",
      "|            5|Christine Jacoba ...|     2|  21|   185|82.0|      705|          10|     NA|            5|      40|        6|      40|1994| Invierno|Lillehammer|        6|Speed Skating Wom...|         5|\n",
      "+-------------+--------------------+------+----+------+----+---------+------------+-------+-------------+--------+---------+--------+----+---------+-----------+---------+--------------------+----------+\n",
      "only showing top 5 rows\n",
      "\n"
     ]
    }
   ],
   "source": [
    "# Hacemos un 'join' entre cuatro Data Frames:\n",
    "\n",
    "deportistaOlimpicoDF.join(\n",
    "    resultadoDF, # <-- DF de unión\n",
    "    deportistaOlimpicoDF['deportista_id'] == resultadoDF['deportista_id'], # <-- campo de unión\n",
    "    'left' #<-- tipo de join\n",
    "    ).join(\n",
    "        juegoDF,# <-- DF de unión\n",
    "        juegoDF['juego_id'] == resultadoDF['juego_id'], # <-- campo de unión\n",
    "        'left' #<-- tipo de join\n",
    "    ).join(\n",
    "        deportesOlimpicosDF,# <-- DF de unión\n",
    "        deportesOlimpicosDF['evento_id'] == resultadoDF['evento_id'], # <-- campo de unión\n",
    "        'left'#<-- tipo de join\n",
    "    ).show(N) # <-- Muestra los primeros N registros"
   ]
  },
  {
   "cell_type": "code",
   "execution_count": 35,
   "metadata": {},
   "outputs": [
    {
     "name": "stdout",
     "output_type": "stream",
     "text": [
      "+--------------------+-------------+-------+------------+--------------------+\n",
      "|              nombre|Edad al jugar|medalla|Año de juego|Nombre de disciplina|\n",
      "+--------------------+-------------+-------+------------+--------------------+\n",
      "|           A Dijiang|           24|     NA|        1992|Basketball Men's ...|\n",
      "|            A Lamusi|           23|     NA|        2012|Judo Men's Extra-...|\n",
      "| Gunnar Nielsen Aaby|           24|     NA|        1920|Football Men's Fo...|\n",
      "|Edgar Lindenau Aabye|           34|   Gold|        1900|Tug-Of-War Men's ...|\n",
      "|Christine Jacoba ...|           21|     NA|        1994|Speed Skating Wom...|\n",
      "+--------------------+-------------+-------+------------+--------------------+\n",
      "only showing top 5 rows\n",
      "\n"
     ]
    }
   ],
   "source": [
    "# Seleccionamos y renombramos algunas columnas de la tabla anterior:\n",
    "\n",
    "# funcones básicas de sql (permite usar la función 'col()')\n",
    "from pyspark.sql.functions import *\n",
    "\n",
    "deportistaOlimpicoDF.join(\n",
    "    resultadoDF, # <-- DF de unión \n",
    "    deportistaOlimpicoDF['deportista_id'] == resultadoDF['deportista_id'], # <-- campo de unión\n",
    "    'left' #<-- tipo de join\n",
    "    ).join(\n",
    "        juegoDF,# <-- DF de unión\n",
    "        juegoDF['juego_id'] == resultadoDF['juego_id'], # <-- campo de unión\n",
    "        'left' #<-- tipo de join\n",
    "    ).join(\n",
    "        deportesOlimpicosDF,# <-- DF de unión\n",
    "        deportesOlimpicosDF['evento_id'] == resultadoDF['evento_id'], # <-- campo de unión\n",
    "        'left'#<-- tipo de join\n",
    "    ).select(\n",
    "        deportistaOlimpicoDF['nombre'], # <-- seleccionamos columna 'nombre' de 'deportistaOlimpicoDF'\n",
    "        col('edad').alias('Edad al jugar'),# <-- seleccionamos  columna 'edad' y la renombramos\n",
    "        'medalla',# <-- seleccionamos columna 'medalla'\n",
    "        col('anio').alias('Año de juego'),# <-- seleccionamos  columna 'anio' y la renombramos\n",
    "        deportesOlimpicosDF['nombre'].alias('Nombre de disciplina') #<-- seleccionamos columna 'nombre' de 'deportesOlimpicosDF' y la renombramos\n",
    "    ).show(N)# <-- Muestra los primeros N registros\n",
    "\n",
    "\n",
    "\n",
    "    # Notemos que en la tabla anterior hay varias columnas con el mismo nombre, por esta razón debemos ser\n",
    "    # más explícitos (ie. especificar a que tabla nos estamos refiriendo) al momento de hacer el 'select'"
   ]
  },
  {
   "cell_type": "markdown",
   "metadata": {},
   "source": [
    "## Realizamos `join` entre los Data Frames: *resultadoDF*, *deportistaOlimpicoDF* y *paisesDF*"
   ]
  },
  {
   "cell_type": "code",
   "execution_count": 36,
   "metadata": {},
   "outputs": [
    {
     "name": "stdout",
     "output_type": "stream",
     "text": [
      "+------------+-------+-------------+--------+---------+\n",
      "|resultado_id|medalla|deportista_id|juego_id|evento_id|\n",
      "+------------+-------+-------------+--------+---------+\n",
      "|           1|     NA|            1|      39|        1|\n",
      "|           2|     NA|            2|      49|        2|\n",
      "|           3|     NA|            3|       7|        3|\n",
      "|           4|   Gold|            4|       2|        4|\n",
      "|           5|     NA|            5|      36|        5|\n",
      "+------------+-------+-------------+--------+---------+\n",
      "only showing top 5 rows\n",
      "\n"
     ]
    }
   ],
   "source": [
    "resultadoDF.show(N)"
   ]
  },
  {
   "cell_type": "code",
   "execution_count": 37,
   "metadata": {},
   "outputs": [
    {
     "name": "stdout",
     "output_type": "stream",
     "text": [
      "+-------------+--------------------+------+----+------+----+---------+\n",
      "|deportista_id|              nombre|genero|edad|altura|peso|equipo_id|\n",
      "+-------------+--------------------+------+----+------+----+---------+\n",
      "|            1|           A Dijiang|     1|  24|   180|80.0|      199|\n",
      "|            2|            A Lamusi|     1|  23|   170|60.0|      199|\n",
      "|            3| Gunnar Nielsen Aaby|     1|  24|     0| 0.0|      273|\n",
      "|            4|Edgar Lindenau Aabye|     1|  34|     0| 0.0|      278|\n",
      "|            5|Christine Jacoba ...|     2|  21|   185|82.0|      705|\n",
      "+-------------+--------------------+------+----+------+----+---------+\n",
      "only showing top 5 rows\n",
      "\n"
     ]
    }
   ],
   "source": [
    "deportistaOlimpicoDF.show(N)"
   ]
  },
  {
   "cell_type": "code",
   "execution_count": 38,
   "metadata": {},
   "outputs": [
    {
     "name": "stdout",
     "output_type": "stream",
     "text": [
      "+---+--------------------+-----+\n",
      "| id|              equipo|sigla|\n",
      "+---+--------------------+-----+\n",
      "|  1|         30. Februar|  AUT|\n",
      "|  2|A North American ...|  MEX|\n",
      "|  3|           Acipactli|  MEX|\n",
      "|  4|             Acturus|  ARG|\n",
      "|  5|         Afghanistan|  AFG|\n",
      "+---+--------------------+-----+\n",
      "only showing top 5 rows\n",
      "\n"
     ]
    }
   ],
   "source": [
    "paisesDF.show(N)"
   ]
  },
  {
   "cell_type": "code",
   "execution_count": 39,
   "metadata": {},
   "outputs": [
    {
     "name": "stdout",
     "output_type": "stream",
     "text": [
      "+------------+-------+-------------+--------+---------+-------------+--------------------+------+----+------+----+---------+---+--------------+-----+\n",
      "|resultado_id|medalla|deportista_id|juego_id|evento_id|deportista_id|              nombre|genero|edad|altura|peso|equipo_id| id|        equipo|sigla|\n",
      "+------------+-------+-------------+--------+---------+-------------+--------------------+------+----+------+----+---------+---+--------------+-----+\n",
      "|           4|   Gold|            4|       2|        4|            4|Edgar Lindenau Aabye|     1|  34|     0| 0.0|      278|278|Denmark/Sweden|  SWE|\n",
      "|          38| Bronze|           15|       7|       19|           15|Arvo Ossian Aaltonen|     1|  22|     0| 0.0|      350|350|       Finland|  FIN|\n",
      "|          39| Bronze|           15|       7|       20|           15|Arvo Ossian Aaltonen|     1|  22|     0| 0.0|      350|350|       Finland|  FIN|\n",
      "|          41| Bronze|           16|      50|       14|           16|Juhamatti Tapio A...|     1|  28|   184|85.0|      350|350|       Finland|  FIN|\n",
      "|          42| Bronze|           17|      17|       21|           17|Paavo Johannes Aa...|     1|  28|   175|64.0|      350|350|       Finland|  FIN|\n",
      "+------------+-------+-------------+--------+---------+-------------+--------------------+------+----+------+----+---------+---+--------------+-----+\n",
      "only showing top 5 rows\n",
      "\n"
     ]
    }
   ],
   "source": [
    "# Hacemos un 'join' entre tres tablas y \n",
    "# seleccionamos unicamente los registros que tengan medalla asignada --> .filter( (resultadoDF['medalla'] != 'NA') )\n",
    "\n",
    "resultadoDF.join(\n",
    "    deportistaOlimpicoDF, # <-- DF de unión\n",
    "    resultadoDF['deportista_id'] == deportistaOlimpicoDF['deportista_id'], # <-- campo de unión\n",
    "    'left' #<-- tipo de join\n",
    "    ).join(\n",
    "        paisesDF,# <-- DF de unión\n",
    "        deportistaOlimpicoDF['equipo_id'] == paisesDF['id'], # <-- campo de unión\n",
    "        'left' #<-- tipo de join\n",
    "    ).filter( (resultadoDF['medalla'] != 'NA') ).show(N) # <-- Muestra los primeros N registros"
   ]
  },
  {
   "cell_type": "code",
   "execution_count": 40,
   "metadata": {},
   "outputs": [
    {
     "name": "stdout",
     "output_type": "stream",
     "text": [
      "+-------+-------------+----+--------------+\n",
      "|medalla|ID_Deportista|pais|        equipo|\n",
      "+-------+-------------+----+--------------+\n",
      "| Bronze|           16| FIN|       Finland|\n",
      "|   Gold|           20| NOR|        Norway|\n",
      "| Bronze|           20| NOR|        Norway|\n",
      "| Silver|           20| NOR|        Norway|\n",
      "| Bronze|           20| NOR|        Norway|\n",
      "| Silver|           20| NOR|        Norway|\n",
      "|   Gold|           20| NOR|        Norway|\n",
      "|   Gold|           20| NOR|        Norway|\n",
      "|   Gold|           20| NOR|        Norway|\n",
      "| Bronze|           15| FIN|       Finland|\n",
      "| Bronze|           15| FIN|       Finland|\n",
      "| Bronze|           17| FIN|       Finland|\n",
      "|   Gold|           17| FIN|       Finland|\n",
      "|   Gold|           17| FIN|       Finland|\n",
      "|   Gold|           17| FIN|       Finland|\n",
      "| Bronze|           17| FIN|       Finland|\n",
      "|   Gold|            4| SWE|Denmark/Sweden|\n",
      "| Silver|           25| NOR|        Norway|\n",
      "| Bronze|           29| NED|   Netherlands|\n",
      "|   Gold|           21| NOR|        Norway|\n",
      "+-------+-------------+----+--------------+\n",
      "only showing top 20 rows\n",
      "\n"
     ]
    }
   ],
   "source": [
    "# De la tabla anterior seleccionamos únicamente las columnas:\n",
    "# 'medalla',\n",
    "# 'deportista_id' (del DF 'resultadoDF') renombrada como 'ID_Deportista'\n",
    "# 'sigla' renombrada como 'pais' \n",
    "# 'equipo'\n",
    "\n",
    "resultadoDF.join(\n",
    "    deportistaOlimpicoDF, # <-- DF de unión\n",
    "    resultadoDF['deportista_id'] == deportistaOlimpicoDF['deportista_id'], # <-- campo de unión\n",
    "    'left' #<-- tipo de join\n",
    "    ).join(\n",
    "        paisesDF,# <-- DF de unión\n",
    "        deportistaOlimpicoDF['equipo_id'] == paisesDF['id'], # <-- campo de unión\n",
    "        'left' #<-- tipo de join\n",
    "    ).filter( (resultadoDF['medalla'] != 'NA') )\\\n",
    "        .select(\n",
    "            'medalla', # <-- seleccionamos columna 'medalla'\n",
    "            resultadoDF['deportista_id'], # <-- seleccionamos columna 'deportista_id' del DF 'resultadoDF'\n",
    "            col('sigla').alias('pais'), # <-- seleccionamos  columna 'sigla' y la renombramos\n",
    "            'equipo'# <-- seleccionamos columna 'equipo'        \n",
    "        ).withColumnRenamed('deportista_id','ID_Deportista')\\\n",
    "            .show()# <-- mostramos los primeros N registros"
   ]
  },
  {
   "cell_type": "code",
   "execution_count": 41,
   "metadata": {},
   "outputs": [
    {
     "name": "stdout",
     "output_type": "stream",
     "text": [
      "+-------+-------------+----+----------+\n",
      "|medalla|ID_Deportista|pais|    equipo|\n",
      "+-------+-------------+----+----------+\n",
      "|   Gold|        94464| ZIM|  Zimbabwe|\n",
      "|   Gold|        97036| ZIM|  Zimbabwe|\n",
      "|   Gold|        25651| ZIM|  Zimbabwe|\n",
      "|   Gold|        23570| ZIM|  Zimbabwe|\n",
      "|   Gold|       127168| ZIM|  Zimbabwe|\n",
      "|   Gold|        20673| ZIM|  Zimbabwe|\n",
      "|   Gold|        19962| ZIM|  Zimbabwe|\n",
      "|   Gold|       115129| ZIM|  Zimbabwe|\n",
      "| Silver|        23549| ZIM|  Zimbabwe|\n",
      "|   Gold|        23549| ZIM|  Zimbabwe|\n",
      "| Bronze|        23549| ZIM|  Zimbabwe|\n",
      "|   Gold|        42417| ZIM|  Zimbabwe|\n",
      "|   Gold|       128977| ZIM|  Zimbabwe|\n",
      "|   Gold|       101386| ZIM|  Zimbabwe|\n",
      "|   Gold|        32681| ZIM|  Zimbabwe|\n",
      "|   Gold|        50854| ZIM|  Zimbabwe|\n",
      "|   Gold|        39559| ZIM|  Zimbabwe|\n",
      "|   Gold|        77735| ZIM|  Zimbabwe|\n",
      "| Silver|        76386| ZAM|    Zambia|\n",
      "| Silver|        28794| YUG|Yugoslavia|\n",
      "+-------+-------------+----+----------+\n",
      "only showing top 20 rows\n",
      "\n"
     ]
    }
   ],
   "source": [
    "# Usamos la función 'distinct()' para eliminar registros repetidos\n",
    "# Usamos '.sort()' para ordenar los datos con respecto a los valores de una columna especificada\n",
    "\n",
    "resultadoDF.join(\n",
    "    deportistaOlimpicoDF, # <-- DF de unión\n",
    "    resultadoDF['deportista_id'] == deportistaOlimpicoDF['deportista_id'], # <-- campo de unión\n",
    "    'left' #<-- tipo de join\n",
    "    ).join(\n",
    "        paisesDF,# <-- DF de unión\n",
    "        deportistaOlimpicoDF['equipo_id'] == paisesDF['id'], # <-- campo de unión\n",
    "        'left' #<-- tipo de join\n",
    "    ).filter( (resultadoDF['medalla'] != 'NA') )\\\n",
    "        .select(\n",
    "            'medalla', # <-- seleccionamos columna 'medalla'\n",
    "            resultadoDF['deportista_id'], # <-- seleccionamos columna 'deportista_id' del DF 'resultadoDF'\n",
    "            col('sigla').alias('pais'), # <-- seleccionamos  columna 'sigla' y la renombramos\n",
    "            'equipo'# <-- seleccionamos columna 'equipo'        \n",
    "        ).withColumnRenamed('deportista_id','ID_Deportista')\\\n",
    "            .distinct()\\\n",
    "            .sort( col('pais').desc() ).show() # <-- ordenamos de forma descendente con respecto a los valores de la columna 'pais'"
   ]
  },
  {
   "cell_type": "code",
   "execution_count": 42,
   "metadata": {},
   "outputs": [
    {
     "name": "stdout",
     "output_type": "stream",
     "text": [
      "+-------+--------+-----+\n",
      "|medalla|  equipo|sigla|\n",
      "+-------+--------+-----+\n",
      "|   Gold|Zimbabwe|  ZIM|\n",
      "|   Gold|Zimbabwe|  ZIM|\n",
      "|   Gold|Zimbabwe|  ZIM|\n",
      "|   Gold|Zimbabwe|  ZIM|\n",
      "| Silver|Zimbabwe|  ZIM|\n",
      "|   Gold|Zimbabwe|  ZIM|\n",
      "|   Gold|Zimbabwe|  ZIM|\n",
      "|   Gold|Zimbabwe|  ZIM|\n",
      "| Bronze|Zimbabwe|  ZIM|\n",
      "|   Gold|Zimbabwe|  ZIM|\n",
      "| Silver|Zimbabwe|  ZIM|\n",
      "|   Gold|Zimbabwe|  ZIM|\n",
      "|   Gold|Zimbabwe|  ZIM|\n",
      "|   Gold|Zimbabwe|  ZIM|\n",
      "| Silver|Zimbabwe|  ZIM|\n",
      "|   Gold|Zimbabwe|  ZIM|\n",
      "| Silver|Zimbabwe|  ZIM|\n",
      "|   Gold|Zimbabwe|  ZIM|\n",
      "|   Gold|Zimbabwe|  ZIM|\n",
      "|   Gold|Zimbabwe|  ZIM|\n",
      "+-------+--------+-----+\n",
      "only showing top 20 rows\n",
      "\n"
     ]
    }
   ],
   "source": [
    "# \n",
    "resultadoDF.join(\n",
    "    deportistaOlimpicoDF, # <-- DF de unión\n",
    "    resultadoDF['deportista_id'] == deportistaOlimpicoDF['deportista_id'], # <-- campo de unión\n",
    "    'left' #<-- tipo de join\n",
    "    ).join(\n",
    "        paisesDF,# <-- DF de unión\n",
    "        deportistaOlimpicoDF['equipo_id'] == paisesDF['id'], # <-- campo de unión\n",
    "        'left' #<-- tipo de join\n",
    "    ).filter( (resultadoDF['medalla'] != 'NA') )\\\n",
    "        .select(\n",
    "            'medalla', # <-- seleccionamos columna 'medalla'\n",
    "            'equipo',# <-- seleccionamos columna 'equipo'\n",
    "            'sigla',# <-- seleccionamos columna 'sigla'   \n",
    "        ).sort( col('sigla').desc() ).show() # <-- ordenamos de forma descendente con respecto a los valores de la columna 'sigla'"
   ]
  },
  {
   "cell_type": "code",
   "execution_count": 43,
   "metadata": {},
   "outputs": [],
   "source": [
    "# Cerramos sesión para liberar memoria:\n",
    "spark.stop()"
   ]
  },
  {
   "cell_type": "code",
   "execution_count": null,
   "metadata": {},
   "outputs": [],
   "source": []
  }
 ],
 "metadata": {
  "interpreter": {
   "hash": "916dbcbb3f70747c44a77c7bcd40155683ae19c65e1c03b4aa3499c5328201f1"
  },
  "kernelspec": {
   "display_name": "Python 3.8.10 64-bit",
   "name": "python3"
  },
  "language_info": {
   "codemirror_mode": {
    "name": "ipython",
    "version": 3
   },
   "file_extension": ".py",
   "mimetype": "text/x-python",
   "name": "python",
   "nbconvert_exporter": "python",
   "pygments_lexer": "ipython3",
   "version": "3.8.10"
  },
  "orig_nbformat": 4
 },
 "nbformat": 4,
 "nbformat_minor": 2
}
