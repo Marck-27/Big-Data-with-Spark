{
 "cells": [
  {
   "cell_type": "markdown",
   "metadata": {},
   "source": [
    "# Proyecto: Creación de Data Frames a partir de RDDs\n",
    "\n",
    "En esta practica veremos como crear un Data Frame a partir de la unión de 2 RDDs,\n",
    "\n",
    "para ello usaremos datos de 2 archivos .csv de los cuales, uno tiene encabezado y el otro no, \n",
    "\n",
    "así que realizaremos los siguientes pasos:\n",
    "\n",
    "1. Creamos los RDDs a partir de archivos.csv\n",
    "\n",
    "2. Eliminamos encabezdo del RDD que trae encabezado\n",
    "\n",
    "3. Unimos los RDDs en uno solo\n",
    "\n",
    "4. Tranfomramos el RDD en un Data Frame"
   ]
  },
  {
   "cell_type": "code",
   "execution_count": 1,
   "metadata": {},
   "outputs": [],
   "source": [
    "# libreria para crear punto de conexión:\n",
    "from pyspark import SparkContext\n",
    "\n",
    "# Cargamos libreria para crear Data Frames:\n",
    "from pyspark.sql import SQLContext\n",
    "\n",
    "#from pyspark.sql import SparkSession\n",
    "\n",
    "# Cargamos librerias para crear el schema del DataFrame\n",
    "from pyspark.sql.types import StructType, StructField\n",
    "\n",
    "# Cargamos los tipos de datos que usaremos para crear las columnas de los dataframes:\n",
    "from pyspark.sql.types import  IntegerType, StringType, FloatType\n",
    "\n",
    "#from pyspark.sql.types import Row"
   ]
  },
  {
   "cell_type": "code",
   "execution_count": 2,
   "metadata": {},
   "outputs": [],
   "source": [
    "# Creamos el punto de conexió a Spark (que se ejecutará en mi máquina 'local'):\n",
    "spark = SparkContext(master='local', appName='RDDs_to_DataFrames')"
   ]
  },
  {
   "cell_type": "code",
   "execution_count": 3,
   "metadata": {},
   "outputs": [
    {
     "name": "stderr",
     "output_type": "stream",
     "text": [
      "/home/marck/.local/lib/python3.8/site-packages/pyspark/sql/context.py:77: FutureWarning: Deprecated in 3.0.0. Use SparkSession.builder.getOrCreate() instead.\n",
      "  warnings.warn(\n"
     ]
    }
   ],
   "source": [
    "# Creamos el contexto para SQL:\n",
    "sqlContext = SQLContext(spark)"
   ]
  },
  {
   "cell_type": "markdown",
   "metadata": {},
   "source": [
    "## Exploramos contenido de archivos `.csv`"
   ]
  },
  {
   "cell_type": "code",
   "execution_count": 4,
   "metadata": {},
   "outputs": [
    {
     "name": "stdout",
     "output_type": "stream",
     "text": [
      "deporte.csv\t deportistaError.csv  modelo_relacional.jpg\n",
      "deportista2.csv  evento.csv\t      paises.csv\n",
      "deportista.csv\t juegos.csv\t      resultados.csv\n"
     ]
    }
   ],
   "source": [
    "# Visualizamos el contenido de la carpeta 'Data' \n",
    "!ls ./Data/"
   ]
  },
  {
   "cell_type": "code",
   "execution_count": 5,
   "metadata": {},
   "outputs": [],
   "source": [
    "# Ruta en donde se encuentran los datos con los que trabajaremos:\n",
    "path = './Data/'"
   ]
  },
  {
   "cell_type": "code",
   "execution_count": 6,
   "metadata": {},
   "outputs": [
    {
     "name": "stdout",
     "output_type": "stream",
     "text": [
      "deportista_id,nombre,genero,edad,altura,peso,equipo_id\n",
      "1,A Dijiang,1,24,180,80,199\n",
      "2,A Lamusi,1,23,170,60,199\n",
      "3,Gunnar Nielsen Aaby,1,24,0,0,273\n",
      "4,Edgar Lindenau Aabye,1,34,0,0,278\n"
     ]
    }
   ],
   "source": [
    "# Vemos las primeras 5 líneas del archivo 'deportista.csv'\n",
    "\n",
    "!head -n 5 Data/deportista.csv\n",
    "\n",
    "# Veremos que el archivo ya tiene un encabezado"
   ]
  },
  {
   "cell_type": "code",
   "execution_count": 7,
   "metadata": {},
   "outputs": [
    {
     "name": "stdout",
     "output_type": "stream",
     "text": [
      "67787,Lee BongJu,1,27,167,56,970\n",
      "67788,Lee BuTi,1,23,164,54,203\n",
      "67789,Anthony N. Buddy Lee,1,34,172,62,1096\n",
      "67790,Alfred A. Butch Lee Porter,1,19,186,80,825\n",
      "67791,Lee ByeongGu,1,22,175,68,970\n"
     ]
    }
   ],
   "source": [
    "# Vemos las primeras 5 líneas del archivo 'deportista2.csv'\n",
    "\n",
    "!head -n 5 Data/deportista2.csv\n",
    "\n",
    "# Veremos que el archivo No tiene un encabezado"
   ]
  },
  {
   "cell_type": "markdown",
   "metadata": {},
   "source": [
    "Notemos que el archivo 'deportista.csv' tiene encabezado y 'deportista2.csv' no tiene\n",
    "\n",
    "El archivo 'deportista2.csv' es continuación de 'deportista.csv'\n",
    "\n",
    "Para hacer un sólo Data Frame, haremos lo siguiente: \n",
    "\n",
    "1. Tranformamos los archivos.csv a RDDs\n",
    "\n",
    "2. Eliminamos el encabezado del archivo 'deportista.csv'\n",
    "\n",
    "3. Unimos los RDDs 'deportista' y 'deportista2\n",
    "\n",
    "4. Ya que tenemos un sólo RDD lo pasamos a un Data Frame"
   ]
  },
  {
   "cell_type": "markdown",
   "metadata": {},
   "source": [
    "## Paso 1: Creamos RDD con datos de archivos `.csv`"
   ]
  },
  {
   "cell_type": "code",
   "execution_count": 8,
   "metadata": {},
   "outputs": [],
   "source": [
    "# Creamos RDDs con datos de archivos .csv\n",
    "# .map(lambda l : l.split(',')) <-- Le asigan formato al contenido de archivos .csv\n",
    "\n",
    "deportistaOlimpicoRDD = spark.textFile(path+'deportista.csv').map(lambda l : l.split(','))\n",
    "\n",
    "deportistaOlimpicoRDD2 = spark.textFile(path+'deportista2.csv').map(lambda l : l.split(','))"
   ]
  },
  {
   "cell_type": "code",
   "execution_count": 9,
   "metadata": {},
   "outputs": [],
   "source": [
    "# Número de registros a visualizar:\n",
    "N=5"
   ]
  },
  {
   "cell_type": "code",
   "execution_count": 10,
   "metadata": {},
   "outputs": [
    {
     "data": {
      "text/plain": [
       "[['deportista_id', 'nombre', 'genero', 'edad', 'altura', 'peso', 'equipo_id'],\n",
       " ['1', 'A Dijiang', '1', '24', '180', '80', '199'],\n",
       " ['2', 'A Lamusi', '1', '23', '170', '60', '199'],\n",
       " ['3', 'Gunnar Nielsen Aaby', '1', '24', '0', '0', '273'],\n",
       " ['4', 'Edgar Lindenau Aabye', '1', '34', '0', '0', '278']]"
      ]
     },
     "execution_count": 10,
     "metadata": {},
     "output_type": "execute_result"
    }
   ],
   "source": [
    "# Vemos los primeros N registros del RDD:\n",
    "deportistaOlimpicoRDD.take(N)"
   ]
  },
  {
   "cell_type": "code",
   "execution_count": 11,
   "metadata": {},
   "outputs": [
    {
     "data": {
      "text/plain": [
       "[['67787', 'Lee BongJu', '1', '27', '167', '56', '970'],\n",
       " ['67788', 'Lee BuTi', '1', '23', '164', '54', '203'],\n",
       " ['67789', 'Anthony N. Buddy Lee', '1', '34', '172', '62', '1096'],\n",
       " ['67790', 'Alfred A. Butch Lee Porter', '1', '19', '186', '80', '825'],\n",
       " ['67791', 'Lee ByeongGu', '1', '22', '175', '68', '970']]"
      ]
     },
     "execution_count": 11,
     "metadata": {},
     "output_type": "execute_result"
    }
   ],
   "source": [
    "# Vemos los primeros N registros del RDD:\n",
    "deportistaOlimpicoRDD2.take(N)"
   ]
  },
  {
   "cell_type": "markdown",
   "metadata": {},
   "source": [
    "## Paso 2: Eliminamos encabezado del primer RDD"
   ]
  },
  {
   "cell_type": "code",
   "execution_count": 12,
   "metadata": {},
   "outputs": [],
   "source": [
    "# Construimos una función para eliminar encabezados de un RDD:\n",
    "\n",
    "def eliminaEncabezado(indice , interador):\n",
    "    return iter( list(interador)[1:] )"
   ]
  },
  {
   "cell_type": "code",
   "execution_count": 13,
   "metadata": {},
   "outputs": [
    {
     "data": {
      "text/plain": [
       "[['1', 'A Dijiang', '1', '24', '180', '80', '199'],\n",
       " ['2', 'A Lamusi', '1', '23', '170', '60', '199'],\n",
       " ['3', 'Gunnar Nielsen Aaby', '1', '24', '0', '0', '273'],\n",
       " ['4', 'Edgar Lindenau Aabye', '1', '34', '0', '0', '278'],\n",
       " ['5', 'Christine Jacoba Aaftink', '2', '21', '185', '82', '705']]"
      ]
     },
     "execution_count": 13,
     "metadata": {},
     "output_type": "execute_result"
    }
   ],
   "source": [
    "# Eliminamos encabezado al primer RDD :\n",
    "deportistaOlimpicoRDD = deportistaOlimpicoRDD.mapPartitionsWithIndex(eliminaEncabezado)\n",
    "\n",
    "# Vemos los primeros N registros del RDD:\n",
    "deportistaOlimpicoRDD.take(N)"
   ]
  },
  {
   "cell_type": "markdown",
   "metadata": {},
   "source": [
    "## Paso 3: Hacemos la unión de RDDs (sin encabezado)"
   ]
  },
  {
   "cell_type": "code",
   "execution_count": 14,
   "metadata": {},
   "outputs": [
    {
     "data": {
      "text/plain": [
       "67786"
      ]
     },
     "execution_count": 14,
     "metadata": {},
     "output_type": "execute_result"
    }
   ],
   "source": [
    "# Conteo de registros del primer RDD:\n",
    "# limite de tiempo de cálculo: 20 miliseconds\n",
    "deportistaOlimpicoRDD.countApprox(20)"
   ]
  },
  {
   "cell_type": "code",
   "execution_count": 15,
   "metadata": {},
   "outputs": [
    {
     "data": {
      "text/plain": [
       "67785"
      ]
     },
     "execution_count": 15,
     "metadata": {},
     "output_type": "execute_result"
    }
   ],
   "source": [
    "# Conteo de registros del segundo RDD:\n",
    "# limite de tiempo de cálculo: 20 miliseconds\n",
    "deportistaOlimpicoRDD2.countApprox(20)"
   ]
  },
  {
   "cell_type": "code",
   "execution_count": 16,
   "metadata": {},
   "outputs": [],
   "source": [
    "# Unimos los 2 RDDs: deportistaOlimpicoRDD y deportistaOlimpicoRDD2\n",
    "deportistaOlimpicoRDD = deportistaOlimpicoRDD.union( deportistaOlimpicoRDD2 )"
   ]
  },
  {
   "cell_type": "code",
   "execution_count": 17,
   "metadata": {},
   "outputs": [
    {
     "data": {
      "text/plain": [
       "135571"
      ]
     },
     "execution_count": 17,
     "metadata": {},
     "output_type": "execute_result"
    }
   ],
   "source": [
    "# Conteo de registros de la unión de RDDs:\n",
    "# limite de tiempo de cálculo: 20 miliseconds\n",
    "deportistaOlimpicoRDD.countApprox(20)"
   ]
  },
  {
   "cell_type": "markdown",
   "metadata": {},
   "source": [
    "## Paso 4: Tranformamos el RDD en un Data Frame"
   ]
  },
  {
   "cell_type": "code",
   "execution_count": 18,
   "metadata": {},
   "outputs": [],
   "source": [
    "# Creación de un Data Frame a partir de un RDD:\n",
    "\n",
    "# Corregimos los tipos de dato en cada columna del RDD: \n",
    "deportistaOlimpicoRDD = \\\n",
    "    deportistaOlimpicoRDD.map(lambda x: ( int(x[0]), x[1],  int(x[2]), int(x[3]), int(x[4]), float(x[5]), int(x[6])  ) )\n",
    "\n",
    "\n",
    "# A continuación creamos el schema, es decir, la estructura (columnas) del Data Frame donde pondremos los datos del RDD:\n",
    "schema = StructType([\n",
    "    StructField('deportista_id', IntegerType(), False ),\n",
    "    StructField('nombre', StringType(), False ),\n",
    "    StructField('genero', IntegerType(), False ),\n",
    "    StructField('edad', IntegerType(), False ),\n",
    "    StructField('altura', IntegerType(), False ),\n",
    "    StructField('peso', FloatType(), False ),\n",
    "    StructField('equipo_id', IntegerType(), False )\n",
    "    ])\n",
    "\n",
    "# StructField <-- instrucción para crear una columna, se debe especificar el tipo de dato que almacenará\n",
    "# En caso de que el campo pueda ser nulo ponemos 'True' de lo contrario ponemos 'False'\n",
    "\n",
    "\n",
    "# Creamos el DataFrame a partir del RDD:\n",
    "deportistaOlimpicoDF = sqlContext.createDataFrame(deportistaOlimpicoRDD, schema)"
   ]
  },
  {
   "cell_type": "code",
   "execution_count": 19,
   "metadata": {},
   "outputs": [
    {
     "name": "stdout",
     "output_type": "stream",
     "text": [
      "+-------------+--------------------+------+----+------+----+---------+\n",
      "|deportista_id|              nombre|genero|edad|altura|peso|equipo_id|\n",
      "+-------------+--------------------+------+----+------+----+---------+\n",
      "|            1|           A Dijiang|     1|  24|   180|80.0|      199|\n",
      "|            2|            A Lamusi|     1|  23|   170|60.0|      199|\n",
      "|            3| Gunnar Nielsen Aaby|     1|  24|     0| 0.0|      273|\n",
      "|            4|Edgar Lindenau Aabye|     1|  34|     0| 0.0|      278|\n",
      "|            5|Christine Jacoba ...|     2|  21|   185|82.0|      705|\n",
      "+-------------+--------------------+------+----+------+----+---------+\n",
      "only showing top 5 rows\n",
      "\n"
     ]
    }
   ],
   "source": [
    "# La información de DataFrames se muestra con '.show()'\n",
    "# La información de RDDs se muestra con '.take()'\n",
    "deportistaOlimpicoDF.show(N)"
   ]
  },
  {
   "cell_type": "code",
   "execution_count": 20,
   "metadata": {},
   "outputs": [],
   "source": [
    "# Cerramos sesión para liberar memoria:\n",
    "spark.stop()"
   ]
  },
  {
   "cell_type": "code",
   "execution_count": null,
   "metadata": {},
   "outputs": [],
   "source": []
  }
 ],
 "metadata": {
  "interpreter": {
   "hash": "916dbcbb3f70747c44a77c7bcd40155683ae19c65e1c03b4aa3499c5328201f1"
  },
  "kernelspec": {
   "display_name": "Python 3.8.10 64-bit",
   "name": "python3"
  },
  "language_info": {
   "codemirror_mode": {
    "name": "ipython",
    "version": 3
   },
   "file_extension": ".py",
   "mimetype": "text/x-python",
   "name": "python",
   "nbconvert_exporter": "python",
   "pygments_lexer": "ipython3",
   "version": "3.8.10"
  },
  "orig_nbformat": 4
 },
 "nbformat": 4,
 "nbformat_minor": 2
}
