{
 "cells": [
  {
   "cell_type": "markdown",
   "metadata": {},
   "source": [
    "# Proyecto: Uniones, Joins y Reducciones en RDDs\n",
    "\n",
    "En la presente práctica veremos cómo:\n",
    "\n",
    "* crear RDDs a partir de archivos .csv \n",
    "\n",
    "* filtrar registros en un RDD\n",
    "\n",
    "* Unión entre dos RDDs. (Pegado vertical)\n",
    "\n",
    "* JOIN (llave-valor) entre dos RDDs (Pegado Horizontal considerando una columna en común para dos RDDs)\n",
    "\n",
    "* Accesar a las componentes de un RDD mediante corchetes, Ej: RDD[0][1][0]\n",
    "\n",
    "* Extracción de valores en diccionarios (llave, valor)\n",
    "\n",
    "Algunas funciones que veremos son:\n",
    "\n",
    "`.filter(lambda x: 'some_value' not in x[k])` Filtra los registros que no contienen el valor 'some_value' en la k-ésima columna del RDD\n",
    "\n",
    "`RDD1 = RDD1.union( RDD2 )` Une el RDD1 con el RDD2, extendiendo el número de registros (renglones) del RDD. Ambos RDDs deben tener el mismo número de columnas teniendo cuidado que el segundo RDD no tenga encabezado. \n",
    "\n",
    "`.takeSample()` Regresa una selección aleatoria de registros \n",
    "\n",
    "`.reduceByKey( add )` Regresa una lista de diccionarios de la forma (llave, número de valores correspondientes a la llave)\n",
    "\n",
    "`.sortBy(lambda x: x[k], ascending=True)` Ordena un RDD con respecto a los valores de la k-ésima columna\n"
   ]
  },
  {
   "cell_type": "code",
   "execution_count": 1,
   "metadata": {},
   "outputs": [],
   "source": [
    "from pyspark import SparkContext"
   ]
  },
  {
   "cell_type": "code",
   "execution_count": 2,
   "metadata": {},
   "outputs": [],
   "source": [
    "# Inicializamos Contexto en nuestra computadora 'local'\n",
    "sc = SparkContext(master='local', appName = 'transformacionesYAcciones')"
   ]
  },
  {
   "cell_type": "markdown",
   "metadata": {},
   "source": [
    "## Creación de un RDD cargando un archivo .csv"
   ]
  },
  {
   "cell_type": "code",
   "execution_count": 3,
   "metadata": {},
   "outputs": [
    {
     "name": "stdout",
     "output_type": "stream",
     "text": [
      "deporte.csv\t deportistaError.csv  modelo_relacional.jpg  salidatexto\n",
      "deportista2.csv  evento.csv\t      paises.csv\n",
      "deportista.csv\t juegos.csv\t      resultados.csv\n"
     ]
    }
   ],
   "source": [
    "# Visualizamos el contenido de la carpeta 'Data' \n",
    "!ls ./Data/"
   ]
  },
  {
   "cell_type": "code",
   "execution_count": 4,
   "metadata": {},
   "outputs": [],
   "source": [
    "# Ruta en donde se encuentran los datos con los que trabajaremos:\n",
    "path = './Data/'"
   ]
  },
  {
   "cell_type": "code",
   "execution_count": 5,
   "metadata": {},
   "outputs": [],
   "source": [
    "# Creamos RDDs con distintos archivos 'textFile'\n",
    "# .map(lambda l : l.split(',')) <-- Le asigan formato al contenido de archivos .csv\n",
    "\n",
    "equiposOlimpicosRDD = sc.textFile(path+'paises.csv').map(lambda l : l.split(','))\n",
    "\n",
    "deportistaOlimpicoRDD = sc.textFile(path+'deportista.csv').map(lambda l : l.split(','))\n",
    "\n",
    "deportistaOlimpicoRDD2 = sc.textFile(path+'deportista2.csv').map(lambda l : l.split(','))\n",
    "\n",
    "resultado = sc.textFile(path+'resultados.csv').map(lambda l : l.split(','))\n",
    "\n",
    "\n",
    "# deportista.csv <-- datos con encabezado\n",
    "# deportista2.csv <-- continuación de datos sin encabezado"
   ]
  },
  {
   "cell_type": "code",
   "execution_count": 6,
   "metadata": {},
   "outputs": [
    {
     "data": {
      "text/plain": [
       "[['id', 'equipo', 'sigla'],\n",
       " ['1', '30. Februar', 'AUT'],\n",
       " ['2', 'A North American Team', 'MEX'],\n",
       " ['3', 'Acipactli', 'MEX'],\n",
       " ['4', 'Acturus', 'ARG'],\n",
       " ['5', 'Afghanistan', 'AFG'],\n",
       " ['6', 'Akatonbo', 'IRL'],\n",
       " ['7', 'Alain IV', 'SUI'],\n",
       " ['8', 'Albania', 'ALB'],\n",
       " ['9', 'Alcaid', 'POR']]"
      ]
     },
     "execution_count": 6,
     "metadata": {},
     "output_type": "execute_result"
    }
   ],
   "source": [
    "# Visualizamos los primeros N registros de 'equiposOlimpicosRDD'\n",
    "# Hay que notar que el encabezado cuenta como primer registro\n",
    "N=10\n",
    "equiposOlimpicosRDD.take(N)"
   ]
  },
  {
   "cell_type": "code",
   "execution_count": 7,
   "metadata": {},
   "outputs": [
    {
     "data": {
      "text/plain": [
       "[['deportista_id', 'nombre', 'genero', 'edad', 'altura', 'peso', 'equipo_id'],\n",
       " ['1', 'A Dijiang', '1', '24', '180', '80', '199'],\n",
       " ['2', 'A Lamusi', '1', '23', '170', '60', '199'],\n",
       " ['3', 'Gunnar Nielsen Aaby', '1', '24', '0', '0', '273'],\n",
       " ['4', 'Edgar Lindenau Aabye', '1', '34', '0', '0', '278'],\n",
       " ['5', 'Christine Jacoba Aaftink', '2', '21', '185', '82', '705'],\n",
       " ['6', 'Per Knut Aaland', '1', '31', '188', '75', '1096'],\n",
       " ['7', 'John Aalberg', '1', '31', '183', '72', '1096'],\n",
       " ['8', 'Cornelia Cor Aalten Strannood ', '2', '18', '168', '0', '705'],\n",
       " ['9', 'Antti Sami Aalto', '1', '26', '186', '96', '350']]"
      ]
     },
     "execution_count": 7,
     "metadata": {},
     "output_type": "execute_result"
    }
   ],
   "source": [
    "# Visualizamos los primeros N registros de 'deportistaOlimpicoRDD'\n",
    "deportistaOlimpicoRDD.take(N)"
   ]
  },
  {
   "cell_type": "code",
   "execution_count": 8,
   "metadata": {},
   "outputs": [
    {
     "data": {
      "text/plain": [
       "[['67787', 'Lee BongJu', '1', '27', '167', '56', '970'],\n",
       " ['67788', 'Lee BuTi', '1', '23', '164', '54', '203'],\n",
       " ['67789', 'Anthony N. Buddy Lee', '1', '34', '172', '62', '1096'],\n",
       " ['67790', 'Alfred A. Butch Lee Porter', '1', '19', '186', '80', '825'],\n",
       " ['67791', 'Lee ByeongGu', '1', '22', '175', '68', '970'],\n",
       " ['67792', 'Lee ByeongGyu', '1', '21', '185', '82', '970'],\n",
       " ['67793', 'Lee ByeongIn', '2', '20', '174', '69', '970'],\n",
       " ['67794', 'Lee ByeongNam', '1', '24', '175', '75', '970'],\n",
       " ['67795', 'Lee ByeongYong', '1', '29', '197', '98', '970'],\n",
       " ['67796', 'Kar Wai Calvin Lee', '1', '29', '172', '68', '470']]"
      ]
     },
     "execution_count": 8,
     "metadata": {},
     "output_type": "execute_result"
    }
   ],
   "source": [
    "# Visualizamos los primeros N registros de 'deportistaOlimpicoRDD2'\n",
    "deportistaOlimpicoRDD2.take(N)"
   ]
  },
  {
   "cell_type": "code",
   "execution_count": 9,
   "metadata": {},
   "outputs": [
    {
     "data": {
      "text/plain": [
       "[['resultado_id', 'medalla', 'deportista_id', 'juego_id', 'evento_id'],\n",
       " ['1', 'NA', '1', '39', '1'],\n",
       " ['2', 'NA', '2', '49', '2'],\n",
       " ['3', 'NA', '3', '7', '3'],\n",
       " ['4', 'Gold', '4', '2', '4'],\n",
       " ['5', 'NA', '5', '36', '5'],\n",
       " ['6', 'NA', '5', '36', '6'],\n",
       " ['7', 'NA', '5', '38', '5'],\n",
       " ['8', 'NA', '5', '38', '6'],\n",
       " ['9', 'NA', '5', '40', '5']]"
      ]
     },
     "execution_count": 9,
     "metadata": {},
     "output_type": "execute_result"
    }
   ],
   "source": [
    "# Visualizamos los primeros N registros de 'deportistaOlimpicoRDD2'\n",
    "resultado.take(N)\n",
    "\n",
    "# 'NA' <-- indica que el jugador no ganó medallas"
   ]
  },
  {
   "cell_type": "code",
   "execution_count": 10,
   "metadata": {},
   "outputs": [
    {
     "data": {
      "text/plain": [
       "[['resultado_id', 'medalla', 'deportista_id', 'juego_id', 'evento_id'],\n",
       " ['4', 'Gold', '4', '2', '4'],\n",
       " ['38', 'Bronze', '15', '7', '19'],\n",
       " ['39', 'Bronze', '15', '7', '20'],\n",
       " ['41', 'Bronze', '16', '50', '14'],\n",
       " ['42', 'Bronze', '17', '17', '21'],\n",
       " ['43', 'Gold', '17', '17', '22'],\n",
       " ['45', 'Gold', '17', '17', '24'],\n",
       " ['49', 'Gold', '17', '17', '28'],\n",
       " ['51', 'Bronze', '17', '19', '22']]"
      ]
     },
     "execution_count": 10,
     "metadata": {},
     "output_type": "execute_result"
    }
   ],
   "source": [
    "# Extraemos unicamente los registros que sí ganaron alguna medalla:\n",
    "resultadoGanador = resultado.filter(lambda x: 'NA' not in x[1])\n",
    "\n",
    "resultadoGanador.take(N)"
   ]
  },
  {
   "cell_type": "code",
   "execution_count": 11,
   "metadata": {},
   "outputs": [
    {
     "data": {
      "text/plain": [
       "1185"
      ]
     },
     "execution_count": 11,
     "metadata": {},
     "output_type": "execute_result"
    }
   ],
   "source": [
    "# realizamos un reconteo (con tiempo limitado) de los registros en los RDDs:\n",
    "\n",
    "limit_time = 20 #<-- limite de tiempo en milisegundos\n",
    "\n",
    "equiposOlimpicosRDD.countApprox(limit_time)"
   ]
  },
  {
   "cell_type": "code",
   "execution_count": 12,
   "metadata": {},
   "outputs": [
    {
     "data": {
      "text/plain": [
       "67787"
      ]
     },
     "execution_count": 12,
     "metadata": {},
     "output_type": "execute_result"
    }
   ],
   "source": [
    "deportistaOlimpicoRDD.countApprox(limit_time)"
   ]
  },
  {
   "cell_type": "code",
   "execution_count": 13,
   "metadata": {},
   "outputs": [
    {
     "data": {
      "text/plain": [
       "67785"
      ]
     },
     "execution_count": 13,
     "metadata": {},
     "output_type": "execute_result"
    }
   ],
   "source": [
    "deportistaOlimpicoRDD2.countApprox(limit_time)"
   ]
  },
  {
   "cell_type": "code",
   "execution_count": 14,
   "metadata": {},
   "outputs": [
    {
     "data": {
      "text/plain": [
       "39784"
      ]
     },
     "execution_count": 14,
     "metadata": {},
     "output_type": "execute_result"
    }
   ],
   "source": [
    "resultadoGanador.countApprox(limit_time)"
   ]
  },
  {
   "cell_type": "markdown",
   "metadata": {},
   "source": [
    "## Unión de dos RDDs\n",
    "\n",
    "La unión entre 2 RDDs extiende el número de registros (renglones), por lo que ambos RDDs deben tener el mismo número de columnas (el segundo RDD debe ser continuación del primero)"
   ]
  },
  {
   "cell_type": "code",
   "execution_count": 15,
   "metadata": {},
   "outputs": [],
   "source": [
    "# Unimos los 2 RDDs, deportistaOlimpicoRDD y deportistaOlimpicoRDD2\n",
    "deportistaOlimpicoRDD = deportistaOlimpicoRDD.union( deportistaOlimpicoRDD2 )"
   ]
  },
  {
   "cell_type": "code",
   "execution_count": 16,
   "metadata": {},
   "outputs": [
    {
     "data": {
      "text/plain": [
       "135572"
      ]
     },
     "execution_count": 16,
     "metadata": {},
     "output_type": "execute_result"
    }
   ],
   "source": [
    "deportistaOlimpicoRDD.countApprox(limit_time)"
   ]
  },
  {
   "cell_type": "markdown",
   "metadata": {},
   "source": [
    "## Join de dos RDDs\n",
    "\n",
    "El JOIN entre dos RDDs extiende el número de columnas"
   ]
  },
  {
   "cell_type": "code",
   "execution_count": 17,
   "metadata": {},
   "outputs": [
    {
     "data": {
      "text/plain": [
       "[['deportista_id', 'nombre', 'genero', 'edad', 'altura', 'peso', 'equipo_id'],\n",
       " ['1', 'A Dijiang', '1', '24', '180', '80', '199'],\n",
       " ['2', 'A Lamusi', '1', '23', '170', '60', '199'],\n",
       " ['3', 'Gunnar Nielsen Aaby', '1', '24', '0', '0', '273'],\n",
       " ['4', 'Edgar Lindenau Aabye', '1', '34', '0', '0', '278']]"
      ]
     },
     "execution_count": 17,
     "metadata": {},
     "output_type": "execute_result"
    }
   ],
   "source": [
    "# Primeros 5 registros del RDD 'deportistaOlimpicoRDD': \n",
    "deportistaOlimpicoRDD.take(5)"
   ]
  },
  {
   "cell_type": "code",
   "execution_count": 18,
   "metadata": {},
   "outputs": [
    {
     "data": {
      "text/plain": [
       "[['id', 'equipo', 'sigla'],\n",
       " ['1', '30. Februar', 'AUT'],\n",
       " ['2', 'A North American Team', 'MEX'],\n",
       " ['3', 'Acipactli', 'MEX'],\n",
       " ['4', 'Acturus', 'ARG']]"
      ]
     },
     "execution_count": 18,
     "metadata": {},
     "output_type": "execute_result"
    }
   ],
   "source": [
    "# Primeros 5 registros del RDD 'equiposOlimpicosRDD': \n",
    "equiposOlimpicosRDD.take(5)"
   ]
  },
  {
   "cell_type": "markdown",
   "metadata": {},
   "source": [
    "Notemos que la última columna x[-1] del RDD 'deportistaOlimpicoRDD' corresponde a la primer columna x[0] del RDD 'equiposOlimpicosRDD', \n",
    "\n",
    "dichas columnas serán las llaves por las que haremos el JOIN entre ambos RDDs\n",
    "\n",
    "La forma de la función JOIN en términos de llave-valor, es:\n",
    "\n",
    "`RDD1.map(lambda x: (columna_llave_RDD1,columnas_valores_RDD1) ).join( RDD2.map(lambda x: (columna_llave_RDD2,columnas_valores_RDD2) )).take(N)`"
   ]
  },
  {
   "cell_type": "code",
   "execution_count": 19,
   "metadata": {},
   "outputs": [
    {
     "data": {
      "text/plain": [
       "[('199', (['1', 'A Dijiang', '1', '24', '180', '80'], 'CHN')),\n",
       " ('199', (['2', 'A Lamusi', '1', '23', '170', '60'], 'CHN')),\n",
       " ('199', (['602', 'Abudoureheman', '1', '22', '182', '75'], 'CHN')),\n",
       " ('199', (['1463', 'Ai Linuer', '1', '25', '160', '62'], 'CHN')),\n",
       " ('199', (['1464', 'Ai Yanhan', '2', '14', '168', '54'], 'CHN')),\n",
       " ('199', (['3605', 'An Weijiang', '1', '22', '178', '72'], 'CHN')),\n",
       " ('199', (['3610', 'An Yulong', '1', '19', '173', '70'], 'CHN')),\n",
       " ('199', (['3611', 'An Zhongxin', '2', '23', '170', '65'], 'CHN')),\n",
       " ('199', (['4639', 'Ao Changrong', '1', '25', '173', '71'], 'CHN')),\n",
       " ('199', (['4641', 'Ao Tegen', '1', '21', '181', '90'], 'CHN'))]"
      ]
     },
     "execution_count": 19,
     "metadata": {},
     "output_type": "execute_result"
    }
   ],
   "source": [
    "# Hacmemos un JOIN de 'deportistaOlimpicoRDD' y 'equiposOlimpicosRDD'\n",
    "deportistaPaises = deportistaOlimpicoRDD.map(lambda x: (x[-1],x[: -1]) ).join(  # llave para conexión:'columna x[-1]', Valores: columnas x[: -1]\n",
    "    equiposOlimpicosRDD.map(lambda x: (x[0],x[2]) )) # llave para conexión:'columna x[0]', Valores: columna x[2]\n",
    "\n",
    "# Muestra los primeros N registros:\n",
    "deportistaPaises.take(N)"
   ]
  },
  {
   "cell_type": "code",
   "execution_count": 20,
   "metadata": {},
   "outputs": [
    {
     "data": {
      "text/plain": [
       "[('273',\n",
       "  (['56134', 'Niels Christian Kold Jrgensen', '1', '21', '0', '0'], 'DEN')),\n",
       " ('624', (['13109', 'Harry Arthur Bonavia', '1', '20', '0', '0'], 'MLT')),\n",
       " ('399', (['98241', 'Eberhard Radzik', '1', '25', '168', '75'], 'GER')),\n",
       " ('96', (['83781', 'Albert Muylle', '1', '0', '0', '0'], 'BEL')),\n",
       " ('1096',\n",
       "  (['101476', 'Clarence Franklin Robison', '1', '25', '192', '77'], 'USA')),\n",
       " ('967', (['18615', 'Lesley Carstens', '2', '27', '0', '0'], 'RSA')),\n",
       " ('362', (['78848', 'mile Mercier', '1', '0', '0', '0'], 'FRA')),\n",
       " ('810',\n",
       "  (['94563', 'Andrzej Ryszard Pitkowski', '1', '22', '169', '68'], 'POL')),\n",
       " ('1096', (['114820', 'Jerome Steinert', '1', '28', '0', '0'], 'USA')),\n",
       " ('576', (['32099', 'Assaf ElMurr', '1', '24', '0', '0'], 'LIB'))]"
      ]
     },
     "execution_count": 20,
     "metadata": {},
     "output_type": "execute_result"
    }
   ],
   "source": [
    "# Usamos .takeSample(False,N,25) para mostrar una muestra aletoria de tamaño N\n",
    "# False <-- indica no se tomarán valores repetidos\n",
    "# 25 <-- representa una semilla para generar muestras aleatorias\n",
    "\n",
    "deportistaPaises.takeSample(False,N,25)"
   ]
  },
  {
   "cell_type": "code",
   "execution_count": 21,
   "metadata": {},
   "outputs": [
    {
     "data": {
      "text/plain": [
       "[('74',\n",
       "  ((['65', 'Patimat Abakarova', '2', '21', '165', '49'], 'AZE'), 'Gold')),\n",
       " ('74', ((['129', 'Ruslan Abbasov', '1', '22', '181', '74'], 'AZE'), 'Gold')),\n",
       " ('74', ((['130', 'Tural Abbasov', '1', '18', '182', '76'], 'AZE'), 'Gold')),\n",
       " ('74', ((['131', 'Tran Abbasova', '2', '33', '159', '53'], 'AZE'), 'Gold')),\n",
       " ('74',\n",
       "  ((['335', 'Abdulqdir Abdullayev', '1', '28', '188', '91'], 'AZE'), 'Gold')),\n",
       " ('74',\n",
       "  ((['336', 'Arif Yadulla Abdullayev', '1', '27', '164', '60'], 'AZE'),\n",
       "   'Gold')),\n",
       " ('74',\n",
       "  ((['339', 'Namiq Yadulla Abdullayev', '1', '25', '167', '55'], 'AZE'),\n",
       "   'Gold')),\n",
       " ('74',\n",
       "  ((['340', 'Laye Abdullayeva', '2', '21', '170', '47'], 'AZE'), 'Gold')),\n",
       " ('74', ((['341', 'lqar Abdulov', '1', '27', '175', '74'], 'AZE'), 'Gold')),\n",
       " ('74', ((['450', 'Ceyhun Abiyev', '1', '29', '163', '48'], 'AZE'), 'Gold'))]"
      ]
     },
     "execution_count": 21,
     "metadata": {},
     "output_type": "execute_result"
    }
   ],
   "source": [
    "# Hacemos un join simple entre 'deportistaPaises' y 'resultadoGanador'\n",
    "\n",
    "deportistaPaises.join(resultadoGanador).take(N)"
   ]
  },
  {
   "cell_type": "markdown",
   "metadata": {},
   "source": [
    "## Accesando a componetes de un RDD usando corchetes"
   ]
  },
  {
   "cell_type": "code",
   "execution_count": 22,
   "metadata": {},
   "outputs": [],
   "source": [
    "# Definimos un diccionaro con valores para las clases de medallas\n",
    "valoresMedallas = {'Gold':7 , 'Silver':5 , 'Bronze':4}"
   ]
  },
  {
   "cell_type": "code",
   "execution_count": 23,
   "metadata": {},
   "outputs": [],
   "source": [
    "# Guardamos el JOIN simple entre 'deportistaPaises' y 'resultadoGanador'\n",
    "paisesMedallas = deportistaPaises.join(resultadoGanador)"
   ]
  },
  {
   "cell_type": "code",
   "execution_count": 24,
   "metadata": {},
   "outputs": [
    {
     "data": {
      "text/plain": [
       "('74', ((['65', 'Patimat Abakarova', '2', '21', '165', '49'], 'AZE'), 'Gold'))"
      ]
     },
     "execution_count": 24,
     "metadata": {},
     "output_type": "execute_result"
    }
   ],
   "source": [
    "# Accedemos al valor de un registro del RDDs para ver su estructura:\n",
    "r = paisesMedallas.take(1)[0]\n",
    "r"
   ]
  },
  {
   "cell_type": "code",
   "execution_count": 25,
   "metadata": {},
   "outputs": [
    {
     "data": {
      "text/plain": [
       "'AZE'"
      ]
     },
     "execution_count": 25,
     "metadata": {},
     "output_type": "execute_result"
    }
   ],
   "source": [
    "# Accedemos a las componentes del valor del registro:\n",
    "\n",
    "# si r = ('74', ((['65', 'Patimat Abakarova', '2', '21', '165', '49'], 'AZE'), 'Gold'))\n",
    "\n",
    "# r[1] <-- accede a: ((['65', 'Patimat Abakarova', '2', '21', '165', '49'], 'AZE'), 'Gold')\n",
    "# r[1][0] <-- accede a: (['65', 'Patimat Abakarova', '2', '21', '165', '49'], 'AZE')\n",
    "# r[1][0][-1] <--accede a: 'AZE'\n",
    "r[1][0][-1]"
   ]
  },
  {
   "cell_type": "code",
   "execution_count": 26,
   "metadata": {},
   "outputs": [
    {
     "data": {
      "text/plain": [
       "'Gold'"
      ]
     },
     "execution_count": 26,
     "metadata": {},
     "output_type": "execute_result"
    }
   ],
   "source": [
    "# Accedemos a las componentes del valor del registro:\n",
    "\n",
    "# si r = ('74', ((['65', 'Patimat Abakarova', '2', '21', '165', '49'], 'AZE'), 'Gold'))\n",
    "\n",
    "# r[1] <-- accede a: ((['65', 'Patimat Abakarova', '2', '21', '165', '49'], 'AZE'), 'Gold')\n",
    "# r[1][1] <-- accede a: 'Gold'\n",
    "r[1][1]"
   ]
  },
  {
   "cell_type": "markdown",
   "metadata": {},
   "source": [
    "## Extracción de valores específicos en diccionarios (llave , valor)"
   ]
  },
  {
   "cell_type": "code",
   "execution_count": 27,
   "metadata": {},
   "outputs": [
    {
     "data": {
      "text/plain": [
       "[('AZE', 'Gold'),\n",
       " ('AZE', 'Gold'),\n",
       " ('AZE', 'Gold'),\n",
       " ('AZE', 'Gold'),\n",
       " ('AZE', 'Gold'),\n",
       " ('AZE', 'Gold'),\n",
       " ('AZE', 'Gold'),\n",
       " ('AZE', 'Gold'),\n",
       " ('AZE', 'Gold'),\n",
       " ('AZE', 'Gold')]"
      ]
     },
     "execution_count": 27,
     "metadata": {},
     "output_type": "execute_result"
    }
   ],
   "source": [
    "# Extraemos las siglas del país y el tipo de medalla:\n",
    "paisesMedallas.map(lambda x: (x[1][0][-1] , x[1][1]) ).take(N)"
   ]
  },
  {
   "cell_type": "code",
   "execution_count": 28,
   "metadata": {},
   "outputs": [
    {
     "data": {
      "text/plain": [
       "[('AZE', 7),\n",
       " ('AZE', 7),\n",
       " ('AZE', 7),\n",
       " ('AZE', 7),\n",
       " ('AZE', 7),\n",
       " ('AZE', 7),\n",
       " ('AZE', 7),\n",
       " ('AZE', 7),\n",
       " ('AZE', 7),\n",
       " ('AZE', 7)]"
      ]
     },
     "execution_count": 28,
     "metadata": {},
     "output_type": "execute_result"
    }
   ],
   "source": [
    "# Extraemos las siglas del país y el valor de la medalla (accediendo a los valores del diccionario 'valoresMedallas'):\n",
    "paisesMedallas = paisesMedallas.map(lambda x: (x[1][0][-1] , valoresMedallas[x[1][1]] ) )\n",
    "\n",
    "paisesMedallas.take(N)"
   ]
  },
  {
   "cell_type": "code",
   "execution_count": 29,
   "metadata": {},
   "outputs": [
    {
     "data": {
      "text/plain": [
       "[('ARG', 12520),\n",
       " ('FIN', 42),\n",
       " ('USA', 1342),\n",
       " ('GRE', 203),\n",
       " ('IRL', 14),\n",
       " ('STP', 52),\n",
       " ('BHU', 147),\n",
       " ('CAN', 32538),\n",
       " ('ANZ', 172),\n",
       " ('THA', 14)]"
      ]
     },
     "execution_count": 29,
     "metadata": {},
     "output_type": "execute_result"
    }
   ],
   "source": [
    "# A continuación sumamos el valor de las medallas acumuladas en cada país:\n",
    "from operator import add\n",
    "\n",
    "# Hacemos una reducción por llaves aplicando la operación suma 'add':\n",
    "paisesMedallas.reduceByKey( add ).take(N)"
   ]
  },
  {
   "cell_type": "code",
   "execution_count": 30,
   "metadata": {},
   "outputs": [
    {
     "data": {
      "text/plain": [
       "[('CAN', 32538),\n",
       " ('ARG', 12520),\n",
       " ('HUN', 10860),\n",
       " ('MEX', 6124),\n",
       " ('RSA', 3788),\n",
       " ('BLR', 3580),\n",
       " ('LTU', 1535),\n",
       " ('MGL', 1460),\n",
       " ('USA', 1342),\n",
       " ('AZE', 1218)]"
      ]
     },
     "execution_count": 30,
     "metadata": {},
     "output_type": "execute_result"
    }
   ],
   "source": [
    "# Calculamos lo anterior pero ordenado de forma descendente de acuerdo al valor de la segunda componente 'x[1]'\n",
    "conclusion = paisesMedallas.reduceByKey( add ).sortBy(lambda x: x[1], ascending=False)\n",
    "\n",
    "conclusion.take(N)"
   ]
  },
  {
   "cell_type": "code",
   "execution_count": 31,
   "metadata": {},
   "outputs": [],
   "source": [
    "# Cerramos sesión para liberar memoria:\n",
    "sc.stop()"
   ]
  },
  {
   "cell_type": "code",
   "execution_count": null,
   "metadata": {},
   "outputs": [],
   "source": []
  }
 ],
 "metadata": {
  "interpreter": {
   "hash": "916dbcbb3f70747c44a77c7bcd40155683ae19c65e1c03b4aa3499c5328201f1"
  },
  "kernelspec": {
   "display_name": "Python 3.8.10 64-bit",
   "name": "python3"
  },
  "language_info": {
   "codemirror_mode": {
    "name": "ipython",
    "version": 3
   },
   "file_extension": ".py",
   "mimetype": "text/x-python",
   "name": "python",
   "nbconvert_exporter": "python",
   "pygments_lexer": "ipython3",
   "version": "3.8.10"
  },
  "orig_nbformat": 4
 },
 "nbformat": 4,
 "nbformat_minor": 2
}
