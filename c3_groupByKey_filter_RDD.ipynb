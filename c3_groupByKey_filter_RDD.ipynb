{
 "cells": [
  {
   "cell_type": "markdown",
   "metadata": {},
   "source": [
    "# Proyecto: Agrupación y filtrado de información en RDDs\n",
    "\n",
    "En la presente práctica veremos cómo:\n",
    "\n",
    "* crear RDDs a partir de archivos .csv \n",
    "\n",
    "* seleccionar una columna específica de un RDD\n",
    "\n",
    "Algunas funciones que veremos son:\n",
    "\n",
    "`.distinct()` Extrae las clases de datos de una columna dada\n",
    "\n",
    "`.count()` Realiza un conteo de registros de un RDD\n",
    "\n",
    "`.map( lambda x: (x[i],x[j]) ).groupByKey().mapValues(list)` Agrupa la información de un RDD en forma llave-valor, y regresa una lista donde las llaves se toman de 'x[i]' y los valores se roamn de 'x[j]'\n",
    "\n",
    "`.map( lambda x: (x[i],x[j]) ).groupByKey().mapValues(len)` Agrupa la información de un RDD en forma llave-valor, y regresa una lista que muestra el número de valores 'x[j]' correspondiente a la llave 'x[i]'\n",
    "\n",
    "`.filter(lambda l : 'some_word' in l).collect()` Filtra los registros que contienen el valor 'some_word'\n",
    "\n",
    "`.countApprox(m)` Realiza un conteo de registros en un RDD, donde la operación de conteo se realiza tiene un límite de tiempo dado por 'm' miliseconds\n",
    "\n",
    "\n",
    "### OBSERVACIÓN: La función `.collect()` recolecta toda la información distribuida en el cluster y la trae al nodo que ejecuta el `.collect()` Esto puede ser peligroso ya que recolectar una gran cantidad de información en un sólo nodo puede sobrepase la memoria computacional del nodo y hacer que el sistema colapse."
   ]
  },
  {
   "cell_type": "code",
   "execution_count": 1,
   "metadata": {},
   "outputs": [],
   "source": [
    "from pyspark import SparkContext"
   ]
  },
  {
   "cell_type": "code",
   "execution_count": 2,
   "metadata": {},
   "outputs": [],
   "source": [
    "# Creamos el incializador viviendo en nuestra computadora 'local'\n",
    "sc = SparkContext(master='local', appName = 'transformacionesYAcciones')"
   ]
  },
  {
   "cell_type": "markdown",
   "metadata": {},
   "source": [
    "## Creación de un RDD cargando un archivo .csv"
   ]
  },
  {
   "cell_type": "code",
   "execution_count": 3,
   "metadata": {},
   "outputs": [
    {
     "name": "stdout",
     "output_type": "stream",
     "text": [
      "deporte.csv\t deportistaError.csv  modelo_relacional.jpg  salidatexto\n",
      "deportista2.csv  evento.csv\t      paises.csv\n",
      "deportista.csv\t juegos.csv\t      resultados.csv\n"
     ]
    }
   ],
   "source": [
    "# Visualizamos el contenido de la carpeta 'Data' \n",
    "!ls ./Data/"
   ]
  },
  {
   "cell_type": "code",
   "execution_count": 4,
   "metadata": {},
   "outputs": [],
   "source": [
    "# Ruta en donde se encuentran los datos con los que trabajaremos:\n",
    "path = './Data/'"
   ]
  },
  {
   "cell_type": "code",
   "execution_count": 5,
   "metadata": {},
   "outputs": [],
   "source": [
    "# Creamos un RDD con los datos del archivo 'paises.csv':\n",
    "\n",
    "equiposOlimpicosRDD = sc.textFile(path+'paises.csv').map(lambda line : line.split(','))\n",
    "\n",
    "# La primer parte de código '# equiposOlimpicosRDD = sc.textFile(path+'paises.csv')'\n",
    "# carga los datos sin darle un formato (carga los datos como una columna)\n",
    "# El resto de código '.map(lambda line : line.split(','))' le asigna un formato a los datos,\n",
    "# y como se trata de un archivo .csv  sabemos que los elementos de un renglón están separados por una coma (,)"
   ]
  },
  {
   "cell_type": "code",
   "execution_count": 6,
   "metadata": {},
   "outputs": [
    {
     "data": {
      "text/plain": [
       "[['id', 'equipo', 'sigla'],\n",
       " ['1', '30. Februar', 'AUT'],\n",
       " ['2', 'A North American Team', 'MEX'],\n",
       " ['3', 'Acipactli', 'MEX'],\n",
       " ['4', 'Acturus', 'ARG'],\n",
       " ['5', 'Afghanistan', 'AFG'],\n",
       " ['6', 'Akatonbo', 'IRL'],\n",
       " ['7', 'Alain IV', 'SUI'],\n",
       " ['8', 'Albania', 'ALB'],\n",
       " ['9', 'Alcaid', 'POR']]"
      ]
     },
     "execution_count": 6,
     "metadata": {},
     "output_type": "execute_result"
    }
   ],
   "source": [
    "# Visualizamos los primeros N registros de RDD\n",
    "# Hay que notar que el encabezado cuenta como primer registro\n",
    "N=10\n",
    "equiposOlimpicosRDD.take(N)"
   ]
  },
  {
   "cell_type": "code",
   "execution_count": 13,
   "metadata": {},
   "outputs": [
    {
     "data": {
      "text/plain": [
       "['sigla', 'AUT', 'MEX', 'MEX', 'ARG', 'AFG', 'IRL', 'SUI', 'ALB', 'POR']"
      ]
     },
     "execution_count": 13,
     "metadata": {},
     "output_type": "execute_result"
    }
   ],
   "source": [
    "# x[0]   <-- selecciona la columna 'id'\n",
    "# x[1]   <-- selecciona la columna 'equipo'\n",
    "# x[2]   <-- selecciona la columna 'sigla'\n",
    "\n",
    "# Extraemos los primeros N registros de una columna en particular:\n",
    "equiposOlimpicosRDD.map(lambda x: (x[2]) ).take(N)\n"
   ]
  },
  {
   "cell_type": "code",
   "execution_count": 15,
   "metadata": {},
   "outputs": [
    {
     "data": {
      "text/plain": [
       "['sigla', 'AUT', 'MEX', 'ARG', 'AFG', 'IRL', 'SUI', 'ALB', 'POR', 'FRA']"
      ]
     },
     "execution_count": 15,
     "metadata": {},
     "output_type": "execute_result"
    }
   ],
   "source": [
    "# Extraemos las primeras N clases de valores de una columna en particular:\n",
    "equiposOlimpicosRDD.map(lambda x: (x[2]) ).distinct().take(N)\n"
   ]
  },
  {
   "cell_type": "code",
   "execution_count": 25,
   "metadata": {},
   "outputs": [
    {
     "data": {
      "text/plain": [
       "231"
      ]
     },
     "execution_count": 25,
     "metadata": {},
     "output_type": "execute_result"
    }
   ],
   "source": [
    "# Realizamos el conteo de las clases de valores de una columna en particular:\n",
    "equiposOlimpicosRDD.map(lambda x: (x[2]) ).distinct().count()\n"
   ]
  },
  {
   "cell_type": "markdown",
   "metadata": {},
   "source": [
    "## Algunas operaciones con agrupación de datos en RDDs"
   ]
  },
  {
   "cell_type": "code",
   "execution_count": 26,
   "metadata": {},
   "outputs": [],
   "source": [
    "N = 5 # <-- Número de registros a mostrar"
   ]
  },
  {
   "cell_type": "code",
   "execution_count": 30,
   "metadata": {},
   "outputs": [
    {
     "data": {
      "text/plain": [
       "[('sigla', ['equipo']),\n",
       " ('AUT',\n",
       "  ['30. Februar',\n",
       "   'Austria',\n",
       "   'Austria-1',\n",
       "   'Austria-2',\n",
       "   'Breslau',\n",
       "   'Brigantia',\n",
       "   'Donar III',\n",
       "   'Evita VI',\n",
       "   'May-Be 1960',\n",
       "   '\"R.-V. Germania; Leitmeritz\"',\n",
       "   'Surprise']),\n",
       " ('MEX',\n",
       "  ['A North American Team',\n",
       "   'Acipactli',\n",
       "   'Chamukina',\n",
       "   'Mexico',\n",
       "   'Mexico-1',\n",
       "   'Mexico-2',\n",
       "   'Nausikaa 4',\n",
       "   'Tlaloc',\n",
       "   'Xolotl']),\n",
       " ('ARG',\n",
       "  ['Acturus',\n",
       "   'Antares',\n",
       "   'Arcturus',\n",
       "   'Ardilla',\n",
       "   'Argentina',\n",
       "   'Argentina-1',\n",
       "   'Argentina-2',\n",
       "   'Blue Red',\n",
       "   'Covunco III',\n",
       "   'Cupidon III',\n",
       "   'Djinn',\n",
       "   'Gullvinge',\n",
       "   'Matrero II',\n",
       "   'Mizar',\n",
       "   'Pampero',\n",
       "   'Rampage',\n",
       "   'Tango',\n",
       "   'Wiking']),\n",
       " ('AFG', ['Afghanistan'])]"
      ]
     },
     "execution_count": 30,
     "metadata": {},
     "output_type": "execute_result"
    }
   ],
   "source": [
    "equiposOlimpicosRDD.map( lambda x: (x[2],x[1]) ).groupByKey().mapValues(list).take(N)\n",
    "\n",
    "# .map( lambda x: (x[i],x[j]) ).groupByKey().mapValues(list).take(N) \n",
    "# Agrupa la información de un RDD en forma llave-valor, y regresa una lista \n",
    "# donde las llaves se toman de 'x[i]' y los valores se roamn de 'x[j]'"
   ]
  },
  {
   "cell_type": "code",
   "execution_count": 31,
   "metadata": {},
   "outputs": [
    {
     "data": {
      "text/plain": [
       "[('sigla', 1), ('AUT', 11), ('MEX', 9), ('ARG', 18), ('AFG', 1)]"
      ]
     },
     "execution_count": 31,
     "metadata": {},
     "output_type": "execute_result"
    }
   ],
   "source": [
    "# Para la agrupación por llaves, ejecutamos '.groupByKey()'\n",
    "# aplicado a una función `lambda x: (llave_x, valor_x)`\n",
    "\n",
    "\n",
    "equiposOlimpicosRDD.map( lambda x: (x[2],x[1]) ).groupByKey().mapValues(len).take(N)\n",
    "\n",
    "# .map( lambda x: (x[j],x[k]) ).groupByKey().mapValues(len).take(N) \n",
    "# Agrupa los datos con la jerarquía indicada por las columnas (x[j],x[k]) y \n",
    "# mapValues(list).take(N) muestra la llave x[j] y su correspondiente lista de valores en x[k]"
   ]
  },
  {
   "cell_type": "markdown",
   "metadata": {},
   "source": [
    "## Filtrado de información en un RDD"
   ]
  },
  {
   "cell_type": "code",
   "execution_count": 33,
   "metadata": {},
   "outputs": [
    {
     "data": {
      "text/plain": [
       "[['4', 'Acturus', 'ARG'],\n",
       " ['37', 'Antares', 'ARG'],\n",
       " ['42', 'Arcturus', 'ARG'],\n",
       " ['43', 'Ardilla', 'ARG'],\n",
       " ['45', 'Argentina', 'ARG'],\n",
       " ['46', 'Argentina-1', 'ARG'],\n",
       " ['47', 'Argentina-2', 'ARG'],\n",
       " ['119', 'Blue Red', 'ARG'],\n",
       " ['238', 'Covunco III', 'ARG'],\n",
       " ['252', 'Cupidon III', 'ARG'],\n",
       " ['288', 'Djinn', 'ARG'],\n",
       " ['436', 'Gullvinge', 'ARG'],\n",
       " ['644', 'Matrero II', 'ARG'],\n",
       " ['672', 'Mizar', 'ARG'],\n",
       " ['774', 'Pampero', 'ARG'],\n",
       " ['843', 'Rampage', 'ARG'],\n",
       " ['1031', 'Tango', 'ARG'],\n",
       " ['1162', 'Wiking', 'ARG']]"
      ]
     },
     "execution_count": 33,
     "metadata": {},
     "output_type": "execute_result"
    }
   ],
   "source": [
    "# Extraer información unicamente de los equipos de Argentina 'ARG'\n",
    "\n",
    "aquiposArgentinos = equiposOlimpicosRDD.filter(lambda l : 'ARG' in l).collect()\n",
    "aquiposArgentinos"
   ]
  },
  {
   "cell_type": "markdown",
   "metadata": {},
   "source": [
    "# OBSERVACIÓN: La función `.collect()` recolecta toda la información distribuida en el cluster y la trae al nodo que ejecuta el `.collect()` Esto puede ser peligroso ya que recolectar una gran cantidad de información en un sólo nodo puede sobrepase la memoria computacional del nodo y hacer que el sistema colapse."
   ]
  },
  {
   "cell_type": "code",
   "execution_count": 34,
   "metadata": {},
   "outputs": [
    {
     "data": {
      "text/plain": [
       "1185"
      ]
     },
     "execution_count": 34,
     "metadata": {},
     "output_type": "execute_result"
    }
   ],
   "source": [
    "# debido a que el conteo '.count()' de registros en RDDs grandes puede ser tardado, \n",
    "# podemos definir un limite de tiempo para realizar el conteo.\n",
    "# Una vez que se alcanza el limite de tiempo se aborta la opercación de conteo.\n",
    "\n",
    "limit_time = 20 #<-- limite de tiempo en milisegundos\n",
    "\n",
    "equiposOlimpicosRDD.countApprox(limit_time)"
   ]
  },
  {
   "cell_type": "code",
   "execution_count": 35,
   "metadata": {},
   "outputs": [
    {
     "data": {
      "text/plain": [
       "1185"
      ]
     },
     "execution_count": 35,
     "metadata": {},
     "output_type": "execute_result"
    }
   ],
   "source": [
    "equiposOlimpicosRDD.count()"
   ]
  },
  {
   "cell_type": "code",
   "execution_count": 36,
   "metadata": {},
   "outputs": [],
   "source": [
    "# Cerramos la sesión para liberar memoria:\n",
    "sc.stop()"
   ]
  },
  {
   "cell_type": "code",
   "execution_count": null,
   "metadata": {},
   "outputs": [],
   "source": []
  }
 ],
 "metadata": {
  "interpreter": {
   "hash": "916dbcbb3f70747c44a77c7bcd40155683ae19c65e1c03b4aa3499c5328201f1"
  },
  "kernelspec": {
   "display_name": "Python 3.8.10 64-bit",
   "name": "python3"
  },
  "language_info": {
   "codemirror_mode": {
    "name": "ipython",
    "version": 3
   },
   "file_extension": ".py",
   "mimetype": "text/x-python",
   "name": "python",
   "nbconvert_exporter": "python",
   "pygments_lexer": "ipython3",
   "version": "3.8.10"
  },
  "orig_nbformat": 4
 },
 "nbformat": 4,
 "nbformat_minor": 2
}
