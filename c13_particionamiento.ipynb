{
 "cells": [
  {
   "cell_type": "markdown",
   "metadata": {},
   "source": [
    "# Proyecto: Particionamiento de información\n",
    "\n",
    "En la presente práctica veremos cómo:\n",
    "\n",
    "* Particionar un RDD en distintos archivos y guardarlos en archivos externos.\n",
    "\n",
    "* Cargar un archivo .csv en un RDD k-particionado\n",
    "\n",
    "* Guardar los elementos de una partición en archivos de texto externos\n",
    "\n",
    "* Recolectar archivos externos de una partición en un solo RDD \n",
    "\n",
    "* Recolectar archivos externos de una partición en un solo Data Frame \n",
    "\n",
    "Algunas funciones que veremos son:\n",
    "\n",
    "`.rdd.getNumPartitions()` Regresa el número de particiones de un Data Frame\n",
    "\n",
    "`.getNumPartitions()` Regresa el número de particiones de un RDD\n"
   ]
  },
  {
   "cell_type": "code",
   "execution_count": 1,
   "metadata": {},
   "outputs": [],
   "source": [
    "# Importamos librerias para crear sesiones de Spark \n",
    "from pyspark.sql import SparkSession\n",
    "\n",
    "# Construimos una sesión de Spark\n",
    "spark = SparkSession.builder.appName('Particionado').master('local[5]').getOrCreate()\n",
    "\n",
    "# 'local[5]' <-- indica que haremos un particionado de tamaño 5"
   ]
  },
  {
   "cell_type": "markdown",
   "metadata": {},
   "source": [
    "## Particionamiento de Data Frames:"
   ]
  },
  {
   "cell_type": "code",
   "execution_count": 2,
   "metadata": {},
   "outputs": [],
   "source": [
    "# Creamos un Data Frame:\n",
    "df = spark.range(0,20)"
   ]
  },
  {
   "cell_type": "code",
   "execution_count": 3,
   "metadata": {},
   "outputs": [
    {
     "name": "stdout",
     "output_type": "stream",
     "text": [
      "+---+\n",
      "| id|\n",
      "+---+\n",
      "|  0|\n",
      "|  1|\n",
      "|  2|\n",
      "|  3|\n",
      "|  4|\n",
      "|  5|\n",
      "|  6|\n",
      "|  7|\n",
      "|  8|\n",
      "|  9|\n",
      "| 10|\n",
      "| 11|\n",
      "| 12|\n",
      "| 13|\n",
      "| 14|\n",
      "| 15|\n",
      "| 16|\n",
      "| 17|\n",
      "| 18|\n",
      "| 19|\n",
      "+---+\n",
      "\n"
     ]
    }
   ],
   "source": [
    "# Visualizamos el Data Frame:\n",
    "df.show()"
   ]
  },
  {
   "cell_type": "code",
   "execution_count": 4,
   "metadata": {},
   "outputs": [
    {
     "data": {
      "text/plain": [
       "5"
      ]
     },
     "execution_count": 4,
     "metadata": {},
     "output_type": "execute_result"
    }
   ],
   "source": [
    "# Obtenemos el número de particiones:\n",
    "df.rdd.getNumPartitions()"
   ]
  },
  {
   "cell_type": "markdown",
   "metadata": {},
   "source": [
    "## Particionamiento de RDDs"
   ]
  },
  {
   "cell_type": "code",
   "execution_count": 5,
   "metadata": {},
   "outputs": [],
   "source": [
    "# Creamos otro RDD:\n",
    "\n",
    "# Numero de particiones\n",
    "k=10\n",
    "\n",
    "rdd1 = spark.sparkContext.parallelize( (0,20) , k )\n",
    "\n",
    "# ( (0,20) , k ) <-- hace k particiones del intervalo (0,20)"
   ]
  },
  {
   "cell_type": "code",
   "execution_count": 6,
   "metadata": {},
   "outputs": [
    {
     "data": {
      "text/plain": [
       "10"
      ]
     },
     "execution_count": 6,
     "metadata": {},
     "output_type": "execute_result"
    }
   ],
   "source": [
    "# Obtenemos el número de particiones:\n",
    "rdd1.getNumPartitions()"
   ]
  },
  {
   "cell_type": "markdown",
   "metadata": {},
   "source": [
    "### Cargamos un archivo .csv en un RDD k-particionado"
   ]
  },
  {
   "cell_type": "code",
   "execution_count": 7,
   "metadata": {},
   "outputs": [],
   "source": [
    "# Numero de particiones\n",
    "k=10\n",
    "\n",
    "# Cargamos archivo .csv en un RDD k-particionado\n",
    "rddDesdeArchivo = spark.sparkContext.textFile( './Data/deporte.csv' , k )"
   ]
  },
  {
   "cell_type": "code",
   "execution_count": 8,
   "metadata": {},
   "outputs": [
    {
     "data": {
      "text/plain": [
       "['deporte_id,deporte',\n",
       " '1,Basketball',\n",
       " '2,Judo',\n",
       " '3,Football',\n",
       " '4,Tug-Of-War',\n",
       " '5,Speed Skating',\n",
       " '6,Cross Country Skiing',\n",
       " '7,Athletics',\n",
       " '8,Ice Hockey',\n",
       " '9,Swimming',\n",
       " '10,Badminton',\n",
       " '11,Sailing',\n",
       " '12,Biathlon',\n",
       " '13,Gymnastics',\n",
       " '14,Art Competitions',\n",
       " '15,Alpine Skiing',\n",
       " '16,Handball',\n",
       " '17,Weightlifting',\n",
       " '18,Wrestling',\n",
       " '19,Luge']"
      ]
     },
     "execution_count": 8,
     "metadata": {},
     "output_type": "execute_result"
    }
   ],
   "source": [
    "# Visualizamos los primeros 20 registros del RDD:\n",
    "rddDesdeArchivo.take(20)"
   ]
  },
  {
   "cell_type": "code",
   "execution_count": 9,
   "metadata": {},
   "outputs": [
    {
     "data": {
      "text/plain": [
       "10"
      ]
     },
     "execution_count": 9,
     "metadata": {},
     "output_type": "execute_result"
    }
   ],
   "source": [
    "# Obtenemos el número de particiones del RDD:\n",
    "rddDesdeArchivo.getNumPartitions()"
   ]
  },
  {
   "cell_type": "code",
   "execution_count": 10,
   "metadata": {},
   "outputs": [
    {
     "data": {
      "text/plain": [
       "67"
      ]
     },
     "execution_count": 10,
     "metadata": {},
     "output_type": "execute_result"
    }
   ],
   "source": [
    "# Obtenemos el número de registros del RDD:\n",
    "rddDesdeArchivo.countApprox(20)"
   ]
  },
  {
   "cell_type": "markdown",
   "metadata": {},
   "source": [
    "## Guardando elementos de una partición en archivos de texto"
   ]
  },
  {
   "cell_type": "code",
   "execution_count": 11,
   "metadata": {},
   "outputs": [],
   "source": [
    "# En caso de error, debemos eliminar el directorio 'salidatexto'\n",
    "!rm -r ./Data/salidatexto"
   ]
  },
  {
   "cell_type": "code",
   "execution_count": 12,
   "metadata": {},
   "outputs": [],
   "source": [
    "# Guardamos los elementos de la partición como archivos de texto en la carpeta 'salidatexto'\n",
    "rddDesdeArchivo.saveAsTextFile('./Data/salidatexto')"
   ]
  },
  {
   "cell_type": "code",
   "execution_count": 13,
   "metadata": {},
   "outputs": [
    {
     "name": "stdout",
     "output_type": "stream",
     "text": [
      "part-00000  part-00002\tpart-00004  part-00006\tpart-00008  _SUCCESS\n",
      "part-00001  part-00003\tpart-00005  part-00007\tpart-00009\n"
     ]
    }
   ],
   "source": [
    "# Vemos los archivos que se generaron en la ruta: ./Data/salidatexto\n",
    "!ls ./Data/salidatexto"
   ]
  },
  {
   "cell_type": "markdown",
   "metadata": {},
   "source": [
    "Los archivos 'part-0000x' corresponden a los elementos de la partición del RDD\n",
    "\n",
    "Si el contenido del archivo '_SUCCESS' es vacío, significa que la operación se realizó correctamente"
   ]
  },
  {
   "cell_type": "code",
   "execution_count": 14,
   "metadata": {},
   "outputs": [],
   "source": [
    "# Vemos el contenido del archivo '_SUCCESS'\n",
    "!cat ./Data/salidatexto/_SUCCESS"
   ]
  },
  {
   "cell_type": "code",
   "execution_count": 15,
   "metadata": {},
   "outputs": [
    {
     "name": "stdout",
     "output_type": "stream",
     "text": [
      "deporte_id,deporte\n",
      "1,Basketball\n",
      "2,Judo\n",
      "3,Football\n",
      "4,Tug-Of-War\n",
      "5,Speed Skating\n",
      "6,Cross Country Skiing\n"
     ]
    }
   ],
   "source": [
    "# Vemos el contenido del archivo 'part-00000'\n",
    "!cat ./Data/salidatexto/part-00000"
   ]
  },
  {
   "cell_type": "code",
   "execution_count": 16,
   "metadata": {},
   "outputs": [
    {
     "name": "stdout",
     "output_type": "stream",
     "text": [
      "7,Athletics\n",
      "8,Ice Hockey\n",
      "9,Swimming\n",
      "10,Badminton\n",
      "11,Sailing\n",
      "12,Biathlon\n",
      "13,Gymnastics\n",
      "14,Art Competitions\n"
     ]
    }
   ],
   "source": [
    "# Vemos el contenido del archivo 'part-00001'\n",
    "!cat ./Data/salidatexto/part-00001"
   ]
  },
  {
   "cell_type": "markdown",
   "metadata": {},
   "source": [
    "## Recolección de elementos de una partición en un RDD:"
   ]
  },
  {
   "cell_type": "code",
   "execution_count": 17,
   "metadata": {},
   "outputs": [],
   "source": [
    "# Creamos un RDD con todos los archivos de la partición:\n",
    "rdd = spark.sparkContext.wholeTextFiles('./Data/salidatexto/*')"
   ]
  },
  {
   "cell_type": "code",
   "execution_count": 18,
   "metadata": {},
   "outputs": [],
   "source": [
    "# Generamos una lista con los elementos del RDD\n",
    "lista_archivos = rdd.mapValues(lambda x : x.split() ).collect()"
   ]
  },
  {
   "cell_type": "code",
   "execution_count": 19,
   "metadata": {},
   "outputs": [
    {
     "data": {
      "text/plain": [
       "[('file:/home/marck/Escritorio/Platzi_Cursos_Nuevos/C18_Fundamentos_Spark_Big_Data/Practicas/Data/salidatexto/part-00000',\n",
       "  ['deporte_id,deporte',\n",
       "   '1,Basketball',\n",
       "   '2,Judo',\n",
       "   '3,Football',\n",
       "   '4,Tug-Of-War',\n",
       "   '5,Speed',\n",
       "   'Skating',\n",
       "   '6,Cross',\n",
       "   'Country',\n",
       "   'Skiing']),\n",
       " ('file:/home/marck/Escritorio/Platzi_Cursos_Nuevos/C18_Fundamentos_Spark_Big_Data/Practicas/Data/salidatexto/part-00001',\n",
       "  ['7,Athletics',\n",
       "   '8,Ice',\n",
       "   'Hockey',\n",
       "   '9,Swimming',\n",
       "   '10,Badminton',\n",
       "   '11,Sailing',\n",
       "   '12,Biathlon',\n",
       "   '13,Gymnastics',\n",
       "   '14,Art',\n",
       "   'Competitions']),\n",
       " ('file:/home/marck/Escritorio/Platzi_Cursos_Nuevos/C18_Fundamentos_Spark_Big_Data/Practicas/Data/salidatexto/part-00002',\n",
       "  ['15,Alpine',\n",
       "   'Skiing',\n",
       "   '16,Handball',\n",
       "   '17,Weightlifting',\n",
       "   '18,Wrestling',\n",
       "   '19,Luge',\n",
       "   '20,Water',\n",
       "   'Polo']),\n",
       " ('file:/home/marck/Escritorio/Platzi_Cursos_Nuevos/C18_Fundamentos_Spark_Big_Data/Practicas/Data/salidatexto/part-00003',\n",
       "  ['21,Hockey',\n",
       "   '22,Rowing',\n",
       "   '23,Bobsleigh',\n",
       "   '24,Fencing',\n",
       "   '25,Equestrianism',\n",
       "   '26,Shooting',\n",
       "   '27,Boxing',\n",
       "   '28,Taekwondo']),\n",
       " ('file:/home/marck/Escritorio/Platzi_Cursos_Nuevos/C18_Fundamentos_Spark_Big_Data/Practicas/Data/salidatexto/part-00004',\n",
       "  ['29,Cycling',\n",
       "   '30,Diving',\n",
       "   '31,Canoeing',\n",
       "   '32,Tennis',\n",
       "   '33,Modern',\n",
       "   'Pentathlon',\n",
       "   '34,Figure',\n",
       "   'Skating',\n",
       "   '35,Golf']),\n",
       " ('file:/home/marck/Escritorio/Platzi_Cursos_Nuevos/C18_Fundamentos_Spark_Big_Data/Practicas/Data/salidatexto/part-00005',\n",
       "  ['36,Softball',\n",
       "   '37,Archery',\n",
       "   '38,Volleyball',\n",
       "   '39,Synchronized',\n",
       "   'Swimming',\n",
       "   '40,Table',\n",
       "   'Tennis',\n",
       "   '41,Nordic',\n",
       "   'Combined']),\n",
       " ('file:/home/marck/Escritorio/Platzi_Cursos_Nuevos/C18_Fundamentos_Spark_Big_Data/Practicas/Data/salidatexto/part-00006',\n",
       "  ['42,Baseball',\n",
       "   '43,Rhythmic',\n",
       "   'Gymnastics',\n",
       "   '44,Freestyle',\n",
       "   'Skiing',\n",
       "   '45,Rugby',\n",
       "   'Sevens',\n",
       "   '46,Trampolining']),\n",
       " ('file:/home/marck/Escritorio/Platzi_Cursos_Nuevos/C18_Fundamentos_Spark_Big_Data/Practicas/Data/salidatexto/part-00007',\n",
       "  ['47,Beach',\n",
       "   'Volleyball',\n",
       "   '48,Triathlon',\n",
       "   '49,Ski',\n",
       "   'Jumping',\n",
       "   '50,Curling',\n",
       "   '51,Snowboarding',\n",
       "   '52,Rugby',\n",
       "   '53,Short',\n",
       "   'Track',\n",
       "   'Speed',\n",
       "   'Skating']),\n",
       " ('file:/home/marck/Escritorio/Platzi_Cursos_Nuevos/C18_Fundamentos_Spark_Big_Data/Practicas/Data/salidatexto/part-00008',\n",
       "  ['54,Skeleton',\n",
       "   '55,Lacrosse',\n",
       "   '56,Polo',\n",
       "   '57,Cricket',\n",
       "   '58,Racquets',\n",
       "   '59,Motorboating',\n",
       "   '60,Military',\n",
       "   'Ski',\n",
       "   'Patrol']),\n",
       " ('file:/home/marck/Escritorio/Platzi_Cursos_Nuevos/C18_Fundamentos_Spark_Big_Data/Practicas/Data/salidatexto/part-00009',\n",
       "  ['61,Croquet',\n",
       "   '62,Jeu',\n",
       "   'De',\n",
       "   'Paume',\n",
       "   '63,Roque',\n",
       "   '64,Alpinism',\n",
       "   '65,Basque',\n",
       "   'Pelota',\n",
       "   '66,Aeronautics'])]"
      ]
     },
     "execution_count": 19,
     "metadata": {},
     "output_type": "execute_result"
    }
   ],
   "source": [
    "# Vemos los elementos de 'lista_archivos'\n",
    "lista_archivos"
   ]
  },
  {
   "cell_type": "code",
   "execution_count": 20,
   "metadata": {},
   "outputs": [
    {
     "name": "stdout",
     "output_type": "stream",
     "text": [
      "file:/home/marck/Escritorio/Platzi_Cursos_Nuevos/C18_Fundamentos_Spark_Big_Data/Practicas/Data/salidatexto/part-00000\n",
      "file:/home/marck/Escritorio/Platzi_Cursos_Nuevos/C18_Fundamentos_Spark_Big_Data/Practicas/Data/salidatexto/part-00001\n",
      "file:/home/marck/Escritorio/Platzi_Cursos_Nuevos/C18_Fundamentos_Spark_Big_Data/Practicas/Data/salidatexto/part-00002\n"
     ]
    }
   ],
   "source": [
    "# Notemos que la primer componente [0] de cada elemento de la lista 'lista_archivos'\n",
    "# corresponde a la ruta de un elemento de la partición:\n",
    "print(lista_archivos[0][0])\n",
    "print(lista_archivos[1][0])\n",
    "print(lista_archivos[2][0])"
   ]
  },
  {
   "cell_type": "code",
   "execution_count": 21,
   "metadata": {},
   "outputs": [],
   "source": [
    "# Guardamos las rutas (elemento l[0] de la 'lista' aterior) de cada elemento de la partición:\n",
    "lista_dir = [ l[0] for l in lista_archivos ]\n",
    "\n",
    "# Ordenamos las rutas:\n",
    "lista_dir.sort()"
   ]
  },
  {
   "cell_type": "code",
   "execution_count": 22,
   "metadata": {},
   "outputs": [
    {
     "data": {
      "text/plain": [
       "['file:/home/marck/Escritorio/Platzi_Cursos_Nuevos/C18_Fundamentos_Spark_Big_Data/Practicas/Data/salidatexto/part-00000',\n",
       " 'file:/home/marck/Escritorio/Platzi_Cursos_Nuevos/C18_Fundamentos_Spark_Big_Data/Practicas/Data/salidatexto/part-00001',\n",
       " 'file:/home/marck/Escritorio/Platzi_Cursos_Nuevos/C18_Fundamentos_Spark_Big_Data/Practicas/Data/salidatexto/part-00002',\n",
       " 'file:/home/marck/Escritorio/Platzi_Cursos_Nuevos/C18_Fundamentos_Spark_Big_Data/Practicas/Data/salidatexto/part-00003',\n",
       " 'file:/home/marck/Escritorio/Platzi_Cursos_Nuevos/C18_Fundamentos_Spark_Big_Data/Practicas/Data/salidatexto/part-00004',\n",
       " 'file:/home/marck/Escritorio/Platzi_Cursos_Nuevos/C18_Fundamentos_Spark_Big_Data/Practicas/Data/salidatexto/part-00005',\n",
       " 'file:/home/marck/Escritorio/Platzi_Cursos_Nuevos/C18_Fundamentos_Spark_Big_Data/Practicas/Data/salidatexto/part-00006',\n",
       " 'file:/home/marck/Escritorio/Platzi_Cursos_Nuevos/C18_Fundamentos_Spark_Big_Data/Practicas/Data/salidatexto/part-00007',\n",
       " 'file:/home/marck/Escritorio/Platzi_Cursos_Nuevos/C18_Fundamentos_Spark_Big_Data/Practicas/Data/salidatexto/part-00008',\n",
       " 'file:/home/marck/Escritorio/Platzi_Cursos_Nuevos/C18_Fundamentos_Spark_Big_Data/Practicas/Data/salidatexto/part-00009']"
      ]
     },
     "execution_count": 22,
     "metadata": {},
     "output_type": "execute_result"
    }
   ],
   "source": [
    "# Vemos el contenido de la 'lista'\n",
    "lista_dir"
   ]
  },
  {
   "cell_type": "code",
   "execution_count": 23,
   "metadata": {},
   "outputs": [],
   "source": [
    "# Recolectamos los archivos externos en un solo RDD:\n",
    "\n",
    "# Recordemos que 'k' es el número de particiones\n",
    "rdd2 = spark.sparkContext.textFile(','.join(lista_dir) , k).map(lambda l: l.split(','))"
   ]
  },
  {
   "cell_type": "code",
   "execution_count": 24,
   "metadata": {},
   "outputs": [
    {
     "data": {
      "text/plain": [
       "[['deporte_id', 'deporte'],\n",
       " ['1', 'Basketball'],\n",
       " ['2', 'Judo'],\n",
       " ['3', 'Football'],\n",
       " ['4', 'Tug-Of-War'],\n",
       " ['5', 'Speed Skating'],\n",
       " ['6', 'Cross Country Skiing'],\n",
       " ['7', 'Athletics'],\n",
       " ['8', 'Ice Hockey'],\n",
       " ['9', 'Swimming'],\n",
       " ['10', 'Badminton'],\n",
       " ['11', 'Sailing'],\n",
       " ['12', 'Biathlon'],\n",
       " ['13', 'Gymnastics'],\n",
       " ['14', 'Art Competitions'],\n",
       " ['15', 'Alpine Skiing'],\n",
       " ['16', 'Handball'],\n",
       " ['17', 'Weightlifting'],\n",
       " ['18', 'Wrestling'],\n",
       " ['19', 'Luge']]"
      ]
     },
     "execution_count": 24,
     "metadata": {},
     "output_type": "execute_result"
    }
   ],
   "source": [
    "rdd2.take(20)"
   ]
  },
  {
   "cell_type": "markdown",
   "metadata": {},
   "source": [
    "## Recolección de particiones (en archivos externos) en un Data Frame:"
   ]
  },
  {
   "cell_type": "code",
   "execution_count": 25,
   "metadata": {},
   "outputs": [],
   "source": [
    "# Cargamos librerias para crear el schema del DataFrame\n",
    "from pyspark.sql.types import StructType, StructField\n",
    "\n",
    "# Cargamos los tipos de datos que usaremos para crear las columnas de los dataframes:\n",
    "from pyspark.sql.types import  IntegerType, StringType, FloatType\n",
    "\n",
    "rdd_schema = StructType([\n",
    "    StructField('deporte_id', IntegerType(), False),\n",
    "    StructField('deporte', StringType(), False)\n",
    "])\n",
    "\n",
    "# Creamos el Data Frame:\n",
    "DF = spark.read.csv('./Data/salidatexto',rdd_schema)\n"
   ]
  },
  {
   "cell_type": "code",
   "execution_count": 26,
   "metadata": {},
   "outputs": [
    {
     "name": "stdout",
     "output_type": "stream",
     "text": [
      "+----------+--------------------+\n",
      "|deporte_id|             deporte|\n",
      "+----------+--------------------+\n",
      "|      null|             deporte|\n",
      "|         1|          Basketball|\n",
      "|         2|                Judo|\n",
      "|         3|            Football|\n",
      "|         4|          Tug-Of-War|\n",
      "|         5|       Speed Skating|\n",
      "|         6|Cross Country Skiing|\n",
      "|         7|           Athletics|\n",
      "|         8|          Ice Hockey|\n",
      "|         9|            Swimming|\n",
      "|        10|           Badminton|\n",
      "|        11|             Sailing|\n",
      "|        12|            Biathlon|\n",
      "|        13|          Gymnastics|\n",
      "|        14|    Art Competitions|\n",
      "|        15|       Alpine Skiing|\n",
      "|        16|            Handball|\n",
      "|        17|       Weightlifting|\n",
      "|        18|           Wrestling|\n",
      "|        19|                Luge|\n",
      "+----------+--------------------+\n",
      "only showing top 20 rows\n",
      "\n"
     ]
    }
   ],
   "source": [
    "DF.sort(DF['deporte_id']).show(20)"
   ]
  },
  {
   "cell_type": "code",
   "execution_count": 27,
   "metadata": {},
   "outputs": [
    {
     "name": "stdout",
     "output_type": "stream",
     "text": [
      "+----------+--------------------+\n",
      "|deporte_id|             deporte|\n",
      "+----------+--------------------+\n",
      "|         1|          Basketball|\n",
      "|         2|                Judo|\n",
      "|         3|            Football|\n",
      "|         4|          Tug-Of-War|\n",
      "|         5|       Speed Skating|\n",
      "|         6|Cross Country Skiing|\n",
      "|         7|           Athletics|\n",
      "|         8|          Ice Hockey|\n",
      "|         9|            Swimming|\n",
      "|        10|           Badminton|\n",
      "|        11|             Sailing|\n",
      "|        12|            Biathlon|\n",
      "|        13|          Gymnastics|\n",
      "|        14|    Art Competitions|\n",
      "|        15|       Alpine Skiing|\n",
      "|        16|            Handball|\n",
      "|        17|       Weightlifting|\n",
      "|        18|           Wrestling|\n",
      "|        19|                Luge|\n",
      "|        20|          Water Polo|\n",
      "+----------+--------------------+\n",
      "only showing top 20 rows\n",
      "\n"
     ]
    }
   ],
   "source": [
    "# Debido a que el primer registro de la partición 'part-00000' contiene encabezado, \n",
    "# este se cuenta como un registro, lo cual es incorrecto así que lo eliminamos con 'filter'\n",
    "DF.sort(DF['deporte_id']).filter( (DF['deporte'] != 'deporte') ).show(20)"
   ]
  },
  {
   "cell_type": "code",
   "execution_count": 28,
   "metadata": {},
   "outputs": [],
   "source": [
    "# Cerramos sesión para liberar memoria:\n",
    "spark.stop()"
   ]
  },
  {
   "cell_type": "code",
   "execution_count": null,
   "metadata": {},
   "outputs": [],
   "source": []
  }
 ],
 "metadata": {
  "interpreter": {
   "hash": "916dbcbb3f70747c44a77c7bcd40155683ae19c65e1c03b4aa3499c5328201f1"
  },
  "kernelspec": {
   "display_name": "Python 3.8.10 64-bit",
   "name": "python3"
  },
  "language_info": {
   "codemirror_mode": {
    "name": "ipython",
    "version": 3
   },
   "file_extension": ".py",
   "mimetype": "text/x-python",
   "name": "python",
   "nbconvert_exporter": "python",
   "pygments_lexer": "ipython3",
   "version": "3.8.10"
  },
  "orig_nbformat": 4
 },
 "nbformat": 4,
 "nbformat_minor": 2
}
